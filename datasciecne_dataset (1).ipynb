{
  "nbformat": 4,
  "nbformat_minor": 0,
  "metadata": {
    "colab": {
      "provenance": []
    },
    "kernelspec": {
      "name": "python3",
      "display_name": "Python 3"
    },
    "language_info": {
      "name": "python"
    }
  },
  "cells": [
    {
      "cell_type": "code",
      "execution_count": 2,
      "metadata": {
        "id": "pgJGPELffr2t"
      },
      "outputs": [],
      "source": [
        "import pandas as pd\n",
        "import numpy as np\n",
        "df1=pd.read_csv('/content/Uncleaned_DS_jobs.csv')"
      ]
    },
    {
      "cell_type": "code",
      "source": [
        "df1.sample(10)"
      ],
      "metadata": {
        "colab": {
          "base_uri": "https://localhost:8080/",
          "height": 947
        },
        "id": "kLg6NgRogKxL",
        "outputId": "771d2bf5-c4a2-4783-c68a-0b0ce0d978db"
      },
      "execution_count": 3,
      "outputs": [
        {
          "output_type": "execute_result",
          "data": {
            "text/plain": [
              "     index                                         Job Title  \\\n",
              "448    448                                    Data Scientist   \n",
              "174    174                                      Data Analyst   \n",
              "385    385                             Senior Data Scientist   \n",
              "403    403                                  Sr. Data Analyst   \n",
              "219    219  Senior Machine Learning Scientist - Bay Area, CA   \n",
              "475    475                                    Data Scientist   \n",
              "261    261       Principal Data Scientist - Machine Learning   \n",
              "92      92                             Senior Data Scientist   \n",
              "23      23    Business Intelligence Analyst I- Data Insights   \n",
              "544    544                 Data Modeler (Analytical Systems)   \n",
              "\n",
              "                  Salary Estimate  \\\n",
              "448   $69K-$116K (Glassdoor est.)   \n",
              "174  $101K-$165K (Glassdoor est.)   \n",
              "385  $110K-$163K (Glassdoor est.)   \n",
              "403  $110K-$163K (Glassdoor est.)   \n",
              "219   $79K-$106K (Glassdoor est.)   \n",
              "475    $31K-$56K (Glassdoor est.)   \n",
              "261   $90K-$124K (Glassdoor est.)   \n",
              "92    $79K-$131K (Glassdoor est.)   \n",
              "23   $137K-$171K (Glassdoor est.)   \n",
              "544   $66K-$112K (Glassdoor est.)   \n",
              "\n",
              "                                       Job Description  \\\n",
              "448  Overview\\n\\n\\nHow have you impacted someone's ...   \n",
              "174  As we navigate through these unprecedented tim...   \n",
              "385  Klaviyo is looking for Senior Data Scientists ...   \n",
              "403  Position Overview:\\n\\nThe Sr. Data Analyst pla...   \n",
              "219  Passionate about precision medicine and advanc...   \n",
              "475  Job Introduction\\n\\n\\nFLEETCOR is seeking a Da...   \n",
              "261  Are you a highly experienced Data Scientist wi...   \n",
              "92   Secure our Nation, Ignite your Future\\n\\nJob S...   \n",
              "23   Position Summary\\n\\nIndividuals within the\\nBu...   \n",
              "544  At MassMutual, were passionate about helping m...   \n",
              "\n",
              "                         Company Name          Location     Headquarters  \\\n",
              "448   Hackensack Meridian Health\\n3.3        Edison, NJ       Edison, NJ   \n",
              "174    Midland Credit Management\\n3.3     San Diego, CA    San Diego, CA   \n",
              "385                      Klaviyo\\n4.8        Boston, MA       Boston, MA   \n",
              "403  Community Behavioral Health\\n3.6  Philadelphia, PA        Phila, PA   \n",
              "219                  Tempus Labs\\n3.3  Redwood City, CA      Chicago, IL   \n",
              "475                     Fleetcor\\n3.7       Atlanta, GA      Atlanta, GA   \n",
              "261             Constant Contact\\n3.6       Waltham, MA      Waltham, MA   \n",
              "92                       ManTech\\n4.2    Alexandria, VA      Herndon, VA   \n",
              "23                 Guardian Life\\n3.5      Appleton, WI     New York, NY   \n",
              "544                   MassMutual\\n3.7        Boston, MA  Springfield, MA   \n",
              "\n",
              "                        Size  Founded               Type of ownership  \\\n",
              "448         10000+ employees       -1          Nonprofit Organization   \n",
              "174   1001 to 5000 employees     1953  Subsidiary or Business Segment   \n",
              "385     201 to 500 employees     2012               Company - Private   \n",
              "403     201 to 500 employees     1994               Company - Private   \n",
              "219    501 to 1000 employees     2015               Company - Private   \n",
              "475  5001 to 10000 employees     2000                Company - Public   \n",
              "261                  Unknown     1995  Subsidiary or Business Segment   \n",
              "92   5001 to 10000 employees     1968                Company - Public   \n",
              "23   5001 to 10000 employees     1860               Company - Private   \n",
              "544  5001 to 10000 employees     1851               Company - Private   \n",
              "\n",
              "                             Industry                     Sector  \\\n",
              "448  Health Care Services & Hospitals                Health Care   \n",
              "174             Banks & Credit Unions                    Finance   \n",
              "385      Computer Hardware & Software     Information Technology   \n",
              "403  Health Care Services & Hospitals                Health Care   \n",
              "219         Biotech & Pharmaceuticals  Biotech & Pharmaceuticals   \n",
              "475  Financial Transaction Processing                    Finance   \n",
              "261           Advertising & Marketing          Business Services   \n",
              "92             Research & Development          Business Services   \n",
              "23                 Insurance Carriers                  Insurance   \n",
              "544                Insurance Carriers                  Insurance   \n",
              "\n",
              "                              Revenue                Competitors  \n",
              "448           $5 to $10 billion (USD)                         -1  \n",
              "174            $1 to $2 billion (USD)                  PRA Group  \n",
              "385          Unknown / Non-Applicable                         -1  \n",
              "403  $500 million to $1 billion (USD)                         -1  \n",
              "219          Unknown / Non-Applicable                         -1  \n",
              "475            $2 to $5 billion (USD)                         -1  \n",
              "261          Unknown / Non-Applicable  Drip, iContact, Mailchimp  \n",
              "92             $1 to $2 billion (USD)                         -1  \n",
              "23            $5 to $10 billion (USD)        Northwestern Mutual  \n",
              "544                $10+ billion (USD)                         -1  "
            ],
            "text/html": [
              "\n",
              "  <div id=\"df-48ddafaf-f9f2-4414-8ef0-d271e03058ea\">\n",
              "    <div class=\"colab-df-container\">\n",
              "      <div>\n",
              "<style scoped>\n",
              "    .dataframe tbody tr th:only-of-type {\n",
              "        vertical-align: middle;\n",
              "    }\n",
              "\n",
              "    .dataframe tbody tr th {\n",
              "        vertical-align: top;\n",
              "    }\n",
              "\n",
              "    .dataframe thead th {\n",
              "        text-align: right;\n",
              "    }\n",
              "</style>\n",
              "<table border=\"1\" class=\"dataframe\">\n",
              "  <thead>\n",
              "    <tr style=\"text-align: right;\">\n",
              "      <th></th>\n",
              "      <th>index</th>\n",
              "      <th>Job Title</th>\n",
              "      <th>Salary Estimate</th>\n",
              "      <th>Job Description</th>\n",
              "      <th>Company Name</th>\n",
              "      <th>Location</th>\n",
              "      <th>Headquarters</th>\n",
              "      <th>Size</th>\n",
              "      <th>Founded</th>\n",
              "      <th>Type of ownership</th>\n",
              "      <th>Industry</th>\n",
              "      <th>Sector</th>\n",
              "      <th>Revenue</th>\n",
              "      <th>Competitors</th>\n",
              "    </tr>\n",
              "  </thead>\n",
              "  <tbody>\n",
              "    <tr>\n",
              "      <th>448</th>\n",
              "      <td>448</td>\n",
              "      <td>Data Scientist</td>\n",
              "      <td>$69K-$116K (Glassdoor est.)</td>\n",
              "      <td>Overview\\n\\n\\nHow have you impacted someone's ...</td>\n",
              "      <td>Hackensack Meridian Health\\n3.3</td>\n",
              "      <td>Edison, NJ</td>\n",
              "      <td>Edison, NJ</td>\n",
              "      <td>10000+ employees</td>\n",
              "      <td>-1</td>\n",
              "      <td>Nonprofit Organization</td>\n",
              "      <td>Health Care Services &amp; Hospitals</td>\n",
              "      <td>Health Care</td>\n",
              "      <td>$5 to $10 billion (USD)</td>\n",
              "      <td>-1</td>\n",
              "    </tr>\n",
              "    <tr>\n",
              "      <th>174</th>\n",
              "      <td>174</td>\n",
              "      <td>Data Analyst</td>\n",
              "      <td>$101K-$165K (Glassdoor est.)</td>\n",
              "      <td>As we navigate through these unprecedented tim...</td>\n",
              "      <td>Midland Credit Management\\n3.3</td>\n",
              "      <td>San Diego, CA</td>\n",
              "      <td>San Diego, CA</td>\n",
              "      <td>1001 to 5000 employees</td>\n",
              "      <td>1953</td>\n",
              "      <td>Subsidiary or Business Segment</td>\n",
              "      <td>Banks &amp; Credit Unions</td>\n",
              "      <td>Finance</td>\n",
              "      <td>$1 to $2 billion (USD)</td>\n",
              "      <td>PRA Group</td>\n",
              "    </tr>\n",
              "    <tr>\n",
              "      <th>385</th>\n",
              "      <td>385</td>\n",
              "      <td>Senior Data Scientist</td>\n",
              "      <td>$110K-$163K (Glassdoor est.)</td>\n",
              "      <td>Klaviyo is looking for Senior Data Scientists ...</td>\n",
              "      <td>Klaviyo\\n4.8</td>\n",
              "      <td>Boston, MA</td>\n",
              "      <td>Boston, MA</td>\n",
              "      <td>201 to 500 employees</td>\n",
              "      <td>2012</td>\n",
              "      <td>Company - Private</td>\n",
              "      <td>Computer Hardware &amp; Software</td>\n",
              "      <td>Information Technology</td>\n",
              "      <td>Unknown / Non-Applicable</td>\n",
              "      <td>-1</td>\n",
              "    </tr>\n",
              "    <tr>\n",
              "      <th>403</th>\n",
              "      <td>403</td>\n",
              "      <td>Sr. Data Analyst</td>\n",
              "      <td>$110K-$163K (Glassdoor est.)</td>\n",
              "      <td>Position Overview:\\n\\nThe Sr. Data Analyst pla...</td>\n",
              "      <td>Community Behavioral Health\\n3.6</td>\n",
              "      <td>Philadelphia, PA</td>\n",
              "      <td>Phila, PA</td>\n",
              "      <td>201 to 500 employees</td>\n",
              "      <td>1994</td>\n",
              "      <td>Company - Private</td>\n",
              "      <td>Health Care Services &amp; Hospitals</td>\n",
              "      <td>Health Care</td>\n",
              "      <td>$500 million to $1 billion (USD)</td>\n",
              "      <td>-1</td>\n",
              "    </tr>\n",
              "    <tr>\n",
              "      <th>219</th>\n",
              "      <td>219</td>\n",
              "      <td>Senior Machine Learning Scientist - Bay Area, CA</td>\n",
              "      <td>$79K-$106K (Glassdoor est.)</td>\n",
              "      <td>Passionate about precision medicine and advanc...</td>\n",
              "      <td>Tempus Labs\\n3.3</td>\n",
              "      <td>Redwood City, CA</td>\n",
              "      <td>Chicago, IL</td>\n",
              "      <td>501 to 1000 employees</td>\n",
              "      <td>2015</td>\n",
              "      <td>Company - Private</td>\n",
              "      <td>Biotech &amp; Pharmaceuticals</td>\n",
              "      <td>Biotech &amp; Pharmaceuticals</td>\n",
              "      <td>Unknown / Non-Applicable</td>\n",
              "      <td>-1</td>\n",
              "    </tr>\n",
              "    <tr>\n",
              "      <th>475</th>\n",
              "      <td>475</td>\n",
              "      <td>Data Scientist</td>\n",
              "      <td>$31K-$56K (Glassdoor est.)</td>\n",
              "      <td>Job Introduction\\n\\n\\nFLEETCOR is seeking a Da...</td>\n",
              "      <td>Fleetcor\\n3.7</td>\n",
              "      <td>Atlanta, GA</td>\n",
              "      <td>Atlanta, GA</td>\n",
              "      <td>5001 to 10000 employees</td>\n",
              "      <td>2000</td>\n",
              "      <td>Company - Public</td>\n",
              "      <td>Financial Transaction Processing</td>\n",
              "      <td>Finance</td>\n",
              "      <td>$2 to $5 billion (USD)</td>\n",
              "      <td>-1</td>\n",
              "    </tr>\n",
              "    <tr>\n",
              "      <th>261</th>\n",
              "      <td>261</td>\n",
              "      <td>Principal Data Scientist - Machine Learning</td>\n",
              "      <td>$90K-$124K (Glassdoor est.)</td>\n",
              "      <td>Are you a highly experienced Data Scientist wi...</td>\n",
              "      <td>Constant Contact\\n3.6</td>\n",
              "      <td>Waltham, MA</td>\n",
              "      <td>Waltham, MA</td>\n",
              "      <td>Unknown</td>\n",
              "      <td>1995</td>\n",
              "      <td>Subsidiary or Business Segment</td>\n",
              "      <td>Advertising &amp; Marketing</td>\n",
              "      <td>Business Services</td>\n",
              "      <td>Unknown / Non-Applicable</td>\n",
              "      <td>Drip, iContact, Mailchimp</td>\n",
              "    </tr>\n",
              "    <tr>\n",
              "      <th>92</th>\n",
              "      <td>92</td>\n",
              "      <td>Senior Data Scientist</td>\n",
              "      <td>$79K-$131K (Glassdoor est.)</td>\n",
              "      <td>Secure our Nation, Ignite your Future\\n\\nJob S...</td>\n",
              "      <td>ManTech\\n4.2</td>\n",
              "      <td>Alexandria, VA</td>\n",
              "      <td>Herndon, VA</td>\n",
              "      <td>5001 to 10000 employees</td>\n",
              "      <td>1968</td>\n",
              "      <td>Company - Public</td>\n",
              "      <td>Research &amp; Development</td>\n",
              "      <td>Business Services</td>\n",
              "      <td>$1 to $2 billion (USD)</td>\n",
              "      <td>-1</td>\n",
              "    </tr>\n",
              "    <tr>\n",
              "      <th>23</th>\n",
              "      <td>23</td>\n",
              "      <td>Business Intelligence Analyst I- Data Insights</td>\n",
              "      <td>$137K-$171K (Glassdoor est.)</td>\n",
              "      <td>Position Summary\\n\\nIndividuals within the\\nBu...</td>\n",
              "      <td>Guardian Life\\n3.5</td>\n",
              "      <td>Appleton, WI</td>\n",
              "      <td>New York, NY</td>\n",
              "      <td>5001 to 10000 employees</td>\n",
              "      <td>1860</td>\n",
              "      <td>Company - Private</td>\n",
              "      <td>Insurance Carriers</td>\n",
              "      <td>Insurance</td>\n",
              "      <td>$5 to $10 billion (USD)</td>\n",
              "      <td>Northwestern Mutual</td>\n",
              "    </tr>\n",
              "    <tr>\n",
              "      <th>544</th>\n",
              "      <td>544</td>\n",
              "      <td>Data Modeler (Analytical Systems)</td>\n",
              "      <td>$66K-$112K (Glassdoor est.)</td>\n",
              "      <td>At MassMutual, were passionate about helping m...</td>\n",
              "      <td>MassMutual\\n3.7</td>\n",
              "      <td>Boston, MA</td>\n",
              "      <td>Springfield, MA</td>\n",
              "      <td>5001 to 10000 employees</td>\n",
              "      <td>1851</td>\n",
              "      <td>Company - Private</td>\n",
              "      <td>Insurance Carriers</td>\n",
              "      <td>Insurance</td>\n",
              "      <td>$10+ billion (USD)</td>\n",
              "      <td>-1</td>\n",
              "    </tr>\n",
              "  </tbody>\n",
              "</table>\n",
              "</div>\n",
              "      <button class=\"colab-df-convert\" onclick=\"convertToInteractive('df-48ddafaf-f9f2-4414-8ef0-d271e03058ea')\"\n",
              "              title=\"Convert this dataframe to an interactive table.\"\n",
              "              style=\"display:none;\">\n",
              "        \n",
              "  <svg xmlns=\"http://www.w3.org/2000/svg\" height=\"24px\"viewBox=\"0 0 24 24\"\n",
              "       width=\"24px\">\n",
              "    <path d=\"M0 0h24v24H0V0z\" fill=\"none\"/>\n",
              "    <path d=\"M18.56 5.44l.94 2.06.94-2.06 2.06-.94-2.06-.94-.94-2.06-.94 2.06-2.06.94zm-11 1L8.5 8.5l.94-2.06 2.06-.94-2.06-.94L8.5 2.5l-.94 2.06-2.06.94zm10 10l.94 2.06.94-2.06 2.06-.94-2.06-.94-.94-2.06-.94 2.06-2.06.94z\"/><path d=\"M17.41 7.96l-1.37-1.37c-.4-.4-.92-.59-1.43-.59-.52 0-1.04.2-1.43.59L10.3 9.45l-7.72 7.72c-.78.78-.78 2.05 0 2.83L4 21.41c.39.39.9.59 1.41.59.51 0 1.02-.2 1.41-.59l7.78-7.78 2.81-2.81c.8-.78.8-2.07 0-2.86zM5.41 20L4 18.59l7.72-7.72 1.47 1.35L5.41 20z\"/>\n",
              "  </svg>\n",
              "      </button>\n",
              "      \n",
              "  <style>\n",
              "    .colab-df-container {\n",
              "      display:flex;\n",
              "      flex-wrap:wrap;\n",
              "      gap: 12px;\n",
              "    }\n",
              "\n",
              "    .colab-df-convert {\n",
              "      background-color: #E8F0FE;\n",
              "      border: none;\n",
              "      border-radius: 50%;\n",
              "      cursor: pointer;\n",
              "      display: none;\n",
              "      fill: #1967D2;\n",
              "      height: 32px;\n",
              "      padding: 0 0 0 0;\n",
              "      width: 32px;\n",
              "    }\n",
              "\n",
              "    .colab-df-convert:hover {\n",
              "      background-color: #E2EBFA;\n",
              "      box-shadow: 0px 1px 2px rgba(60, 64, 67, 0.3), 0px 1px 3px 1px rgba(60, 64, 67, 0.15);\n",
              "      fill: #174EA6;\n",
              "    }\n",
              "\n",
              "    [theme=dark] .colab-df-convert {\n",
              "      background-color: #3B4455;\n",
              "      fill: #D2E3FC;\n",
              "    }\n",
              "\n",
              "    [theme=dark] .colab-df-convert:hover {\n",
              "      background-color: #434B5C;\n",
              "      box-shadow: 0px 1px 3px 1px rgba(0, 0, 0, 0.15);\n",
              "      filter: drop-shadow(0px 1px 2px rgba(0, 0, 0, 0.3));\n",
              "      fill: #FFFFFF;\n",
              "    }\n",
              "  </style>\n",
              "\n",
              "      <script>\n",
              "        const buttonEl =\n",
              "          document.querySelector('#df-48ddafaf-f9f2-4414-8ef0-d271e03058ea button.colab-df-convert');\n",
              "        buttonEl.style.display =\n",
              "          google.colab.kernel.accessAllowed ? 'block' : 'none';\n",
              "\n",
              "        async function convertToInteractive(key) {\n",
              "          const element = document.querySelector('#df-48ddafaf-f9f2-4414-8ef0-d271e03058ea');\n",
              "          const dataTable =\n",
              "            await google.colab.kernel.invokeFunction('convertToInteractive',\n",
              "                                                     [key], {});\n",
              "          if (!dataTable) return;\n",
              "\n",
              "          const docLinkHtml = 'Like what you see? Visit the ' +\n",
              "            '<a target=\"_blank\" href=https://colab.research.google.com/notebooks/data_table.ipynb>data table notebook</a>'\n",
              "            + ' to learn more about interactive tables.';\n",
              "          element.innerHTML = '';\n",
              "          dataTable['output_type'] = 'display_data';\n",
              "          await google.colab.output.renderOutput(dataTable, element);\n",
              "          const docLink = document.createElement('div');\n",
              "          docLink.innerHTML = docLinkHtml;\n",
              "          element.appendChild(docLink);\n",
              "        }\n",
              "      </script>\n",
              "    </div>\n",
              "  </div>\n",
              "  "
            ]
          },
          "metadata": {},
          "execution_count": 3
        }
      ]
    },
    {
      "cell_type": "code",
      "source": [
        "print(df1.shape)\n",
        "print('-----------------------------------------------------')\n",
        "print(df1.columns)\n",
        "print('-----------------------------------------------------')\n",
        "print('null values\\n',df1.isnull().sum())\n",
        "print('-----------------------------------------------------')\n",
        "print('duplicates\\n', df1.duplicated().sum())\n",
        "print('-----------------------------------------------------')\n",
        "print(df1.info())"
      ],
      "metadata": {
        "colab": {
          "base_uri": "https://localhost:8080/"
        },
        "id": "31AWRvRlgcRP",
        "outputId": "782273d6-114f-402a-e659-c41f6e9897fe"
      },
      "execution_count": 4,
      "outputs": [
        {
          "output_type": "stream",
          "name": "stdout",
          "text": [
            "(672, 14)\n",
            "-----------------------------------------------------\n",
            "Index(['index', 'Job Title', 'Salary Estimate', 'Job Description',\n",
            "       'Company Name', 'Location', 'Headquarters', 'Size', 'Founded',\n",
            "       'Type of ownership', 'Industry', 'Sector', 'Revenue', 'Competitors'],\n",
            "      dtype='object')\n",
            "-----------------------------------------------------\n",
            "null values\n",
            " index                0\n",
            "Job Title            0\n",
            "Salary Estimate      0\n",
            "Job Description      0\n",
            "Company Name         0\n",
            "Location             0\n",
            "Headquarters         0\n",
            "Size                 0\n",
            "Founded              0\n",
            "Type of ownership    0\n",
            "Industry             0\n",
            "Sector               0\n",
            "Revenue              0\n",
            "Competitors          0\n",
            "dtype: int64\n",
            "-----------------------------------------------------\n",
            "duplicates\n",
            " 0\n",
            "-----------------------------------------------------\n",
            "<class 'pandas.core.frame.DataFrame'>\n",
            "RangeIndex: 672 entries, 0 to 671\n",
            "Data columns (total 14 columns):\n",
            " #   Column             Non-Null Count  Dtype \n",
            "---  ------             --------------  ----- \n",
            " 0   index              672 non-null    int64 \n",
            " 1   Job Title          672 non-null    object\n",
            " 2   Salary Estimate    672 non-null    object\n",
            " 3   Job Description    672 non-null    object\n",
            " 4   Company Name       672 non-null    object\n",
            " 5   Location           672 non-null    object\n",
            " 6   Headquarters       672 non-null    object\n",
            " 7   Size               672 non-null    object\n",
            " 8   Founded            672 non-null    int64 \n",
            " 9   Type of ownership  672 non-null    object\n",
            " 10  Industry           672 non-null    object\n",
            " 11  Sector             672 non-null    object\n",
            " 12  Revenue            672 non-null    object\n",
            " 13  Competitors        672 non-null    object\n",
            "dtypes: int64(2), object(12)\n",
            "memory usage: 73.6+ KB\n",
            "None\n"
          ]
        }
      ]
    },
    {
      "cell_type": "markdown",
      "source": [
        "- No null values\n",
        "- No duplicate values in dataset"
      ],
      "metadata": {
        "id": "TXlOCfLth0r9"
      }
    },
    {
      "cell_type": "code",
      "source": [
        "df1.nunique()"
      ],
      "metadata": {
        "colab": {
          "base_uri": "https://localhost:8080/"
        },
        "id": "QX6DIcEX1xxN",
        "outputId": "87d14328-73b9-49dc-e18a-4fd3f412698a"
      },
      "execution_count": 5,
      "outputs": [
        {
          "output_type": "execute_result",
          "data": {
            "text/plain": [
              "index                672\n",
              "Job Title            172\n",
              "Salary Estimate       30\n",
              "Job Description      489\n",
              "Company Name         432\n",
              "Location             207\n",
              "Headquarters         229\n",
              "Size                   9\n",
              "Founded              103\n",
              "Type of ownership     13\n",
              "Industry              58\n",
              "Sector                23\n",
              "Revenue               14\n",
              "Competitors          108\n",
              "dtype: int64"
            ]
          },
          "metadata": {},
          "execution_count": 5
        }
      ]
    },
    {
      "cell_type": "markdown",
      "source": [
        "# Data Cleaning "
      ],
      "metadata": {
        "id": "xGMERxz_Pb5K"
      }
    },
    {
      "cell_type": "code",
      "source": [
        "# delating the index column as it doesnot give any information\n",
        "df1.drop('index',axis=1,inplace=True)\n"
      ],
      "metadata": {
        "id": "JW0n8lIfQCgI"
      },
      "execution_count": 6,
      "outputs": []
    },
    {
      "cell_type": "code",
      "source": [
        "print('duplicates\\n', df1.duplicated().sum())"
      ],
      "metadata": {
        "colab": {
          "base_uri": "https://localhost:8080/"
        },
        "id": "NhmDnGlOSvxH",
        "outputId": "df10100d-cf25-4998-f2c8-3ef891d74c0f"
      },
      "execution_count": 7,
      "outputs": [
        {
          "output_type": "stream",
          "name": "stdout",
          "text": [
            "duplicates\n",
            " 13\n"
          ]
        }
      ]
    },
    {
      "cell_type": "code",
      "source": [
        "# After removing index it is observed we have 13 dulpicates, deleting these duplicates\n",
        "df1.drop_duplicates(inplace=True)"
      ],
      "metadata": {
        "id": "2qpsfr7qShpL"
      },
      "execution_count": 8,
      "outputs": []
    },
    {
      "cell_type": "code",
      "source": [
        "df1.reset_index(inplace=True)"
      ],
      "metadata": {
        "id": "w3vJkMoxUCtT"
      },
      "execution_count": 9,
      "outputs": []
    },
    {
      "cell_type": "code",
      "source": [
        "df1.shape"
      ],
      "metadata": {
        "colab": {
          "base_uri": "https://localhost:8080/"
        },
        "id": "euespBWJS0kt",
        "outputId": "cca26795-da6a-4389-c6f4-df74e167b3fd"
      },
      "execution_count": 10,
      "outputs": [
        {
          "output_type": "execute_result",
          "data": {
            "text/plain": [
              "(659, 14)"
            ]
          },
          "metadata": {},
          "execution_count": 10
        }
      ]
    },
    {
      "cell_type": "code",
      "source": [
        "df1.drop('index',axis=1,inplace=True)"
      ],
      "metadata": {
        "id": "EsrYv_P5USuz"
      },
      "execution_count": 11,
      "outputs": []
    },
    {
      "cell_type": "code",
      "source": [
        "df1.shape\n"
      ],
      "metadata": {
        "colab": {
          "base_uri": "https://localhost:8080/"
        },
        "id": "J1n6UNU9UVcw",
        "outputId": "33ed4eed-d4da-4c49-fb2b-b7bf97399dd4"
      },
      "execution_count": 12,
      "outputs": [
        {
          "output_type": "execute_result",
          "data": {
            "text/plain": [
              "(659, 13)"
            ]
          },
          "metadata": {},
          "execution_count": 12
        }
      ]
    },
    {
      "cell_type": "code",
      "source": [
        "# simplifying first column\n",
        "df1['Job Title'].unique()"
      ],
      "metadata": {
        "colab": {
          "base_uri": "https://localhost:8080/"
        },
        "id": "iD-H_RvrtNQj",
        "outputId": "c215a8c3-4ae9-4a09-c5d9-0a0a8136e383"
      },
      "execution_count": 13,
      "outputs": [
        {
          "output_type": "execute_result",
          "data": {
            "text/plain": [
              "array(['Sr Data Scientist', 'Data Scientist',\n",
              "       'Data Scientist / Machine Learning Expert',\n",
              "       'Staff Data Scientist - Analytics',\n",
              "       'Data Scientist - Statistics, Early Career', 'Data Modeler',\n",
              "       'Experienced Data Scientist', 'Data Scientist - Contract',\n",
              "       'Data Analyst II', 'Medical Lab Scientist',\n",
              "       'Data Scientist/Machine Learning', 'Human Factors Scientist',\n",
              "       'Business Intelligence Analyst I- Data Insights',\n",
              "       'Data Scientist - Risk', 'Data Scientist-Human Resources',\n",
              "       'Senior Research Statistician- Data Scientist', 'Data Engineer',\n",
              "       'Associate Data Scientist', 'Business Intelligence Analyst',\n",
              "       'Senior Analyst/Data Scientist', 'Data Analyst',\n",
              "       'Machine Learning Engineer', 'Data Analyst I',\n",
              "       'Scientist - Molecular Biology',\n",
              "       'Computational Scientist, Machine Learning',\n",
              "       'Senior Data Scientist', 'Jr. Data Engineer',\n",
              "       'E-Commerce Data Analyst', 'Data Analytics Engineer',\n",
              "       'Product Data Scientist - Ads Data Science',\n",
              "       'Data Scientist - Intermediate', 'Global Data Analyst',\n",
              "       'Data & Machine Learning Scientist',\n",
              "       'Data Scientist - Machine Learning', 'Data Engineer (Remote)',\n",
              "       'Data Scientist, Applied Machine Learning - Bay Area',\n",
              "       'Principal Data Scientist', 'Business Data Analyst',\n",
              "       'Purification Scientist', 'Data Engineer, Enterprise Analytics',\n",
              "       'Data Scientist 3 (718)', 'Real World Science, Data Scientist',\n",
              "       'Data Scientist - Image and Video Analytics',\n",
              "       'Data Science Manager, Payment Acceptance - USA',\n",
              "       'Data Scientist / Applied Mathematician',\n",
              "       'Patient Safety- Associate Data Scientist',\n",
              "       '(Sr.) Data Scientist -', 'Data Scientist, Kinship - NYC/Portland',\n",
              "       'Applied Technology Researcher / Data Scientist',\n",
              "       'Health Data Scientist - Biomedical/Biostats',\n",
              "       'Staff Data Scientist', 'Sr Data Engineer (Sr BI Developer)',\n",
              "       'Lead Data Scientist', 'RFP Data Analyst',\n",
              "       'Data Scientist (TS/SCI)', 'Software Engineer - Data Science',\n",
              "       'Data Analyst/Engineer', 'NGS Scientist', 'Senior Data Engineer',\n",
              "       'Sr. ML/Data Scientist - AI/NLP/Chatbot',\n",
              "       'Data Integration and Modeling Engineer',\n",
              "       'Tableau Data Engineer 20-0117', 'AI Data Scientist',\n",
              "       'Research Scientist Patient Preferences (Remote)',\n",
              "       'Scientist - Biomarker and Flow Cytometry', 'Analytics Manager',\n",
              "       'Staff Scientist- Upstream PD',\n",
              "       'Sr Scientist - Extractables & Leachables',\n",
              "       'ELISA RESEARCH SCIENTIST (CV-15)', 'Say Business Data Analyst',\n",
              "       'Geospatial Data Scientist', 'Computational Scientist',\n",
              "       'Senior Data Analyst', 'Sr Data Analyst',\n",
              "       'Machine Learning Scientist - Bay Area, CA',\n",
              "       'Senior Data Scientist - Algorithms',\n",
              "       'Senior Data & Machine Learning Scientist',\n",
              "       'Research Scientist - Patient-Centered Research (Remote)',\n",
              "       'Jr. Business Data Analyst (position added 6/12/2020)',\n",
              "       'Sr. Data Scientist II',\n",
              "       'Production Engineer - Statistics/Data Analysis',\n",
              "       'Statistical Scientist', 'Computational Behavioral Scientist',\n",
              "       'Principal Data Scientist - Machine Learning',\n",
              "       'Principal Machine Learning Scientist',\n",
              "       'Senior Data Scientist - R&D Oncology',\n",
              "       'Health Plan Data Analyst, Sr',\n",
              "       'Principal Scientist/Associate Director, Quality Control and Analytical Technologies',\n",
              "       'Analytics - Business Assurance Data Analyst',\n",
              "       'Senior Data Scientist – Image Analytics, Novartis AI Innovation Lab',\n",
              "       'Data Science Instructor', 'Senior Business Intelligence Analyst',\n",
              "       'In-Line Inspection Data Analyst',\n",
              "       'Data Scientist - TS/SCI FSP or CI Required',\n",
              "       'Data Scientist - TS/SCI Required',\n",
              "       'Data Science Software Engineer',\n",
              "       'ENGINEER - COMPUTER SCIENTIST - RESEARCH COMPUTER SCIENTIST - SIGNAL PROCESSING - SAN ANTONIO OR',\n",
              "       'AI Ops Data Scientist', 'Intelligence Data Analyst, Senior',\n",
              "       'Analytics Manager - Data Mart',\n",
              "       'Data Modeler (Analytical Systems)',\n",
              "       'Senior Machine Learning Scientist - Bay Area, CA',\n",
              "       'Report Writer-Data Analyst', 'Staff Data Scientist - Pricing',\n",
              "       'Equity Data Insights Analyst - Quantitative Analyst',\n",
              "       'Operations Data Analyst', 'Software Data Engineer',\n",
              "       'Real World Evidence (RWE) Scientist', 'Computer Scientist 1',\n",
              "       'Environmental Data Science', 'Staff BI and Data Engineer',\n",
              "       'Data Scientist - Statistics, Mid-Career',\n",
              "       'Director of Data Science',\n",
              "       'Data Engineer, Digital & Comp Pathology',\n",
              "       'Manager / Lead, Data Science & Analytics',\n",
              "       'Diversity and Inclusion Data Analyst',\n",
              "       'Data Scientist Machine Learning', 'Chief Scientist',\n",
              "       'Development Scientist, Voltaren',\n",
              "       'Principal Data & Analytics Platform Engineer',\n",
              "       'Machine Learning Engineer/Scientist',\n",
              "       'Data Analyst - Unilever Prestige', 'VP, Data Science',\n",
              "       'Data Engineer - Kafka', 'Decision Scientist',\n",
              "       'Data Science All Star Program - Data Engineer Track',\n",
              "       'Scientist - Machine Learning', 'Sr. Data Scientist',\n",
              "       'Applied AI Scientist / Engineer',\n",
              "       'Data Engineer (Analytics, SQL, Python, AWS)',\n",
              "       'Senior Data Analyst - Finance & Platform Analytics',\n",
              "       'Market Research Data Scientist',\n",
              "       'IT Partner Digital Health Technology and Data Science',\n",
              "       'Software Engineer (Data Scientist, C,C++,Linux,Unix) - SISW - MG',\n",
              "       'Senior Clinical Data Scientist Programmer',\n",
              "       'Computer Vision / Deep Learning Scientist',\n",
              "       'Data Solutions Engineer - Data Modeler',\n",
              "       'Data Scientist (TS/SCI w/ Poly)',\n",
              "       'Weapons and Sensors Engineer/Scientist',\n",
              "       'Applied Computer Scientist', 'Cloud Data Engineer (Azure)',\n",
              "       'Lead Certified Clinical Laboratory Scientist - Saturday - Tuesday, 8:00pm - 6:30am shift',\n",
              "       'Sr. Data Analyst',\n",
              "       'Senior Scientist - Toxicologist - Product Integrity (Stewardship)',\n",
              "       'Senior Machine Learning Engineer',\n",
              "       'Data Scientist- Industrial Discrete Sector Industry',\n",
              "       'Senior Principal Data Scientist (Python/R)',\n",
              "       'Data Scientist(s)/Machine Learning Engineer',\n",
              "       'Scientist / Group Lead, Cancer Biology',\n",
              "       'Manager, Field Application Scientist, Southeast',\n",
              "       'COMPUTER SCIENTIST - ENGINEER - RESEARCH COMPUTER SCIENTIST - SIGNAL PROCESSING',\n",
              "       'Machine Learning Scientist / Engineer', 'Data Science Analyst',\n",
              "       'COMPUTER SCIENTIST - ENGINEER - RESEARCH COMPUTER SCIENTIST - TRANSPORTATION TECHNOLOGY',\n",
              "       'Software Engineer - Machine Learning & Data Science (Applied Intelligence Services Team)',\n",
              "       'Clinical Data Analyst', 'Data Scientist Technical Specialist',\n",
              "       'Data Science Manager', 'Big Data Engineer', 'Data Architect',\n",
              "       'Aviation AI/ML Data Scientist', 'Machine Learning Engineer, Sr.',\n",
              "       'Information Systems Engineering Specialist (Engineering Scientist)',\n",
              "       'Scientist/Research Associate-Metabolic Engineering',\n",
              "       'Vice President, Biometrics and Clinical Data Management',\n",
              "       'Enterprise Data Analyst (Enterprise Portfolio Management Office)',\n",
              "       'Lead Data Scientist – Network Analysis and Control',\n",
              "       'Sr. Research Associate/ Scientist, NGS prep & Molecular Genomics',\n",
              "       'Developer III - Data Science',\n",
              "       'Hydrogen/Tritium Materials Scientist (Experienced)',\n",
              "       'Data Scientist/Data Analytics Practitioner',\n",
              "       'AI/ML - Machine Learning Scientist, Siri Understanding'],\n",
              "      dtype=object)"
            ]
          },
          "metadata": {},
          "execution_count": 13
        }
      ]
    },
    {
      "cell_type": "code",
      "source": [
        "print(df1['Job Title'].value_counts())"
      ],
      "metadata": {
        "colab": {
          "base_uri": "https://localhost:8080/"
        },
        "id": "N_s5RTPyvfz8",
        "outputId": "69804a43-52a7-4b41-8b1c-2db409c55261"
      },
      "execution_count": 14,
      "outputs": [
        {
          "output_type": "stream",
          "name": "stdout",
          "text": [
            "Data Scientist                                            326\n",
            "Data Engineer                                              26\n",
            "Senior Data Scientist                                      19\n",
            "Machine Learning Engineer                                  15\n",
            "Data Analyst                                               12\n",
            "                                                         ... \n",
            "Data Science Instructor                                     1\n",
            "Business Data Analyst                                       1\n",
            "Purification Scientist                                      1\n",
            "Data Engineer, Enterprise Analytics                         1\n",
            "AI/ML - Machine Learning Scientist, Siri Understanding      1\n",
            "Name: Job Title, Length: 172, dtype: int64\n"
          ]
        }
      ]
    },
    {
      "cell_type": "code",
      "source": [
        "# creating a function to simplify the data.\n",
        "def new_title(title):\n",
        "    if 'data scientist' in title.lower() or 'Data Science' in title.lower():\n",
        "        return 'data scientist'\n",
        "    elif 'data engineer' in title.lower():\n",
        "        return 'data engineer'\n",
        "    elif 'analyst' in title.lower():\n",
        "        return 'analyst'\n",
        "    elif 'machine learning' in title.lower():\n",
        "        return 'machine learning '\n",
        "    elif 'manager' in title.lower():\n",
        "        return 'manager'\n",
        "    elif 'director' in title.lower():\n",
        "        return 'director'\n",
        "    else:\n",
        "        return 'other'\n",
        "def prefix(title):\n",
        "    if 'sr.' in title.lower() or 'senior' in title.lower() or 'sr' in title.lower() or 'lead' in title.lower() or 'principal' in title.lower():\n",
        "            return 'senior'\n",
        "    elif 'jr' in title.lower() or 'jr.' in title.lower():\n",
        "        return 'jr'\n",
        "    else:\n",
        "        return 'nil'"
      ],
      "metadata": {
        "id": "4kVB4l_QsmrF"
      },
      "execution_count": 15,
      "outputs": []
    },
    {
      "cell_type": "code",
      "source": [
        "# creating new colummn as new_title\n",
        "df1['new_title'] = df1['Job Title'].apply(new_title)\n"
      ],
      "metadata": {
        "id": "Q3YKrsGbwasg"
      },
      "execution_count": 16,
      "outputs": []
    },
    {
      "cell_type": "code",
      "source": [
        "# creating a new column as exp_level\n",
        "df1['exp_level'] = df1['Job Title'].apply(prefix)"
      ],
      "metadata": {
        "id": "CEfY6RqIwyMH"
      },
      "execution_count": 17,
      "outputs": []
    },
    {
      "cell_type": "code",
      "source": [
        "print(df1['new_title'].value_counts())\n",
        "print('----------------------------------')\n",
        "print(df1['exp_level'].value_counts())"
      ],
      "metadata": {
        "colab": {
          "base_uri": "https://localhost:8080/"
        },
        "id": "B-awjtVYxJEh",
        "outputId": "2f24744a-60c3-4e4a-e8f4-94da068eafba"
      },
      "execution_count": 18,
      "outputs": [
        {
          "output_type": "stream",
          "name": "stdout",
          "text": [
            "data scientist       444\n",
            "other                 69\n",
            "analyst               55\n",
            "data engineer         46\n",
            "machine learning      35\n",
            "manager                7\n",
            "director               3\n",
            "Name: new_title, dtype: int64\n",
            "----------------------------------\n",
            "nil       564\n",
            "senior     93\n",
            "jr          2\n",
            "Name: exp_level, dtype: int64\n"
          ]
        }
      ]
    },
    {
      "cell_type": "markdown",
      "source": [
        "First column is cleaned as new columns have been created based on it\n",
        "\n"
      ],
      "metadata": {
        "id": "wOYKpbktyOJd"
      }
    },
    {
      "cell_type": "code",
      "source": [
        "# second column Salary Estimate\t\n",
        "df1['Salary Estimate'].unique()"
      ],
      "metadata": {
        "colab": {
          "base_uri": "https://localhost:8080/"
        },
        "id": "k_HYHsltyMAg",
        "outputId": "ace573b7-76a5-4bbf-b7ff-a2909c31de0c"
      },
      "execution_count": 19,
      "outputs": [
        {
          "output_type": "execute_result",
          "data": {
            "text/plain": [
              "array(['$137K-$171K (Glassdoor est.)', '$75K-$131K (Glassdoor est.)',\n",
              "       '$79K-$131K (Glassdoor est.)', '$99K-$132K (Glassdoor est.)',\n",
              "       '$90K-$109K (Glassdoor est.)', '$101K-$165K (Glassdoor est.)',\n",
              "       '$56K-$97K (Glassdoor est.)', '$79K-$106K (Glassdoor est.)',\n",
              "       '$71K-$123K (Glassdoor est.)', '$90K-$124K (Glassdoor est.)',\n",
              "       '$91K-$150K (Glassdoor est.)', '$141K-$225K (Glassdoor est.)',\n",
              "       '$145K-$225K(Employer est.)', '$79K-$147K (Glassdoor est.)',\n",
              "       '$122K-$146K (Glassdoor est.)', '$112K-$116K (Glassdoor est.)',\n",
              "       '$110K-$163K (Glassdoor est.)', '$124K-$198K (Glassdoor est.)',\n",
              "       '$79K-$133K (Glassdoor est.)', '$69K-$116K (Glassdoor est.)',\n",
              "       '$31K-$56K (Glassdoor est.)', '$95K-$119K (Glassdoor est.)',\n",
              "       '$212K-$331K (Glassdoor est.)', '$66K-$112K (Glassdoor est.)',\n",
              "       '$128K-$201K (Glassdoor est.)', '$138K-$158K (Glassdoor est.)',\n",
              "       '$80K-$132K (Glassdoor est.)', '$87K-$141K (Glassdoor est.)',\n",
              "       '$92K-$155K (Glassdoor est.)', '$105K-$167K (Glassdoor est.)'],\n",
              "      dtype=object)"
            ]
          },
          "metadata": {},
          "execution_count": 19
        }
      ]
    },
    {
      "cell_type": "code",
      "source": [
        "# first removing sting data in bracktes\n",
        "df1['Salary Estimate'] = df1['Salary Estimate'].apply(lambda x: x.split('(')[0])"
      ],
      "metadata": {
        "id": "kFr8x9GKzhgN"
      },
      "execution_count": 20,
      "outputs": []
    },
    {
      "cell_type": "code",
      "source": [
        "df1['Salary Estimate'] = df1['Salary Estimate'].apply(lambda x: x.replace('K','').replace('$',''))\n",
        "df1['min_salary'] = df1['Salary Estimate'].apply(lambda x: int(x.split('-')[0]))\n",
        "df1['max_salary'] = df1['Salary Estimate'].apply(lambda x: int(x.split('-')[1]))\n",
        "df1['avg_salary'] = (df1.min_salary+df1.max_salary)//2\n",
        "df1.head()"
      ],
      "metadata": {
        "colab": {
          "base_uri": "https://localhost:8080/",
          "height": 530
        },
        "id": "BxGDt01jz1J7",
        "outputId": "0361f191-6586-4d4e-a18b-d649f38d5278"
      },
      "execution_count": 21,
      "outputs": [
        {
          "output_type": "execute_result",
          "data": {
            "text/plain": [
              "           Job Title Salary Estimate  \\\n",
              "0  Sr Data Scientist        137-171    \n",
              "1     Data Scientist        137-171    \n",
              "2     Data Scientist        137-171    \n",
              "3     Data Scientist        137-171    \n",
              "4     Data Scientist        137-171    \n",
              "\n",
              "                                     Job Description             Company Name  \\\n",
              "0  Description\\n\\nThe Senior Data Scientist is re...         Healthfirst\\n3.1   \n",
              "1  Secure our Nation, Ignite your Future\\n\\nJoin ...             ManTech\\n4.2   \n",
              "2  Overview\\n\\n\\nAnalysis Group is one of the lar...      Analysis Group\\n3.8   \n",
              "3  JOB DESCRIPTION:\\n\\nDo you have a passion for ...             INFICON\\n3.5   \n",
              "4  Data Scientist\\nAffinity Solutions / Marketing...  Affinity Solutions\\n2.9   \n",
              "\n",
              "        Location            Headquarters                     Size  Founded  \\\n",
              "0   New York, NY            New York, NY   1001 to 5000 employees     1993   \n",
              "1  Chantilly, VA             Herndon, VA  5001 to 10000 employees     1968   \n",
              "2     Boston, MA              Boston, MA   1001 to 5000 employees     1981   \n",
              "3     Newton, MA  Bad Ragaz, Switzerland    501 to 1000 employees     2000   \n",
              "4   New York, NY            New York, NY      51 to 200 employees     1998   \n",
              "\n",
              "         Type of ownership                               Industry  \\\n",
              "0   Nonprofit Organization                     Insurance Carriers   \n",
              "1         Company - Public                 Research & Development   \n",
              "2  Private Practice / Firm                             Consulting   \n",
              "3         Company - Public  Electrical & Electronic Manufacturing   \n",
              "4        Company - Private                Advertising & Marketing   \n",
              "\n",
              "              Sector                     Revenue  \\\n",
              "0          Insurance    Unknown / Non-Applicable   \n",
              "1  Business Services      $1 to $2 billion (USD)   \n",
              "2  Business Services  $100 to $500 million (USD)   \n",
              "3      Manufacturing  $100 to $500 million (USD)   \n",
              "4  Business Services    Unknown / Non-Applicable   \n",
              "\n",
              "                                         Competitors       new_title  \\\n",
              "0            EmblemHealth, UnitedHealth Group, Aetna  data scientist   \n",
              "1                                                 -1  data scientist   \n",
              "2                                                 -1  data scientist   \n",
              "3  MKS Instruments, Pfeiffer Vacuum, Agilent Tech...  data scientist   \n",
              "4               Commerce Signals, Cardlytics, Yodlee  data scientist   \n",
              "\n",
              "  exp_level  min_salary  max_salary  avg_salary  \n",
              "0    senior         137         171         154  \n",
              "1       nil         137         171         154  \n",
              "2       nil         137         171         154  \n",
              "3       nil         137         171         154  \n",
              "4       nil         137         171         154  "
            ],
            "text/html": [
              "\n",
              "  <div id=\"df-caf4c900-42bd-470c-8b2d-857f9b776a48\">\n",
              "    <div class=\"colab-df-container\">\n",
              "      <div>\n",
              "<style scoped>\n",
              "    .dataframe tbody tr th:only-of-type {\n",
              "        vertical-align: middle;\n",
              "    }\n",
              "\n",
              "    .dataframe tbody tr th {\n",
              "        vertical-align: top;\n",
              "    }\n",
              "\n",
              "    .dataframe thead th {\n",
              "        text-align: right;\n",
              "    }\n",
              "</style>\n",
              "<table border=\"1\" class=\"dataframe\">\n",
              "  <thead>\n",
              "    <tr style=\"text-align: right;\">\n",
              "      <th></th>\n",
              "      <th>Job Title</th>\n",
              "      <th>Salary Estimate</th>\n",
              "      <th>Job Description</th>\n",
              "      <th>Company Name</th>\n",
              "      <th>Location</th>\n",
              "      <th>Headquarters</th>\n",
              "      <th>Size</th>\n",
              "      <th>Founded</th>\n",
              "      <th>Type of ownership</th>\n",
              "      <th>Industry</th>\n",
              "      <th>Sector</th>\n",
              "      <th>Revenue</th>\n",
              "      <th>Competitors</th>\n",
              "      <th>new_title</th>\n",
              "      <th>exp_level</th>\n",
              "      <th>min_salary</th>\n",
              "      <th>max_salary</th>\n",
              "      <th>avg_salary</th>\n",
              "    </tr>\n",
              "  </thead>\n",
              "  <tbody>\n",
              "    <tr>\n",
              "      <th>0</th>\n",
              "      <td>Sr Data Scientist</td>\n",
              "      <td>137-171</td>\n",
              "      <td>Description\\n\\nThe Senior Data Scientist is re...</td>\n",
              "      <td>Healthfirst\\n3.1</td>\n",
              "      <td>New York, NY</td>\n",
              "      <td>New York, NY</td>\n",
              "      <td>1001 to 5000 employees</td>\n",
              "      <td>1993</td>\n",
              "      <td>Nonprofit Organization</td>\n",
              "      <td>Insurance Carriers</td>\n",
              "      <td>Insurance</td>\n",
              "      <td>Unknown / Non-Applicable</td>\n",
              "      <td>EmblemHealth, UnitedHealth Group, Aetna</td>\n",
              "      <td>data scientist</td>\n",
              "      <td>senior</td>\n",
              "      <td>137</td>\n",
              "      <td>171</td>\n",
              "      <td>154</td>\n",
              "    </tr>\n",
              "    <tr>\n",
              "      <th>1</th>\n",
              "      <td>Data Scientist</td>\n",
              "      <td>137-171</td>\n",
              "      <td>Secure our Nation, Ignite your Future\\n\\nJoin ...</td>\n",
              "      <td>ManTech\\n4.2</td>\n",
              "      <td>Chantilly, VA</td>\n",
              "      <td>Herndon, VA</td>\n",
              "      <td>5001 to 10000 employees</td>\n",
              "      <td>1968</td>\n",
              "      <td>Company - Public</td>\n",
              "      <td>Research &amp; Development</td>\n",
              "      <td>Business Services</td>\n",
              "      <td>$1 to $2 billion (USD)</td>\n",
              "      <td>-1</td>\n",
              "      <td>data scientist</td>\n",
              "      <td>nil</td>\n",
              "      <td>137</td>\n",
              "      <td>171</td>\n",
              "      <td>154</td>\n",
              "    </tr>\n",
              "    <tr>\n",
              "      <th>2</th>\n",
              "      <td>Data Scientist</td>\n",
              "      <td>137-171</td>\n",
              "      <td>Overview\\n\\n\\nAnalysis Group is one of the lar...</td>\n",
              "      <td>Analysis Group\\n3.8</td>\n",
              "      <td>Boston, MA</td>\n",
              "      <td>Boston, MA</td>\n",
              "      <td>1001 to 5000 employees</td>\n",
              "      <td>1981</td>\n",
              "      <td>Private Practice / Firm</td>\n",
              "      <td>Consulting</td>\n",
              "      <td>Business Services</td>\n",
              "      <td>$100 to $500 million (USD)</td>\n",
              "      <td>-1</td>\n",
              "      <td>data scientist</td>\n",
              "      <td>nil</td>\n",
              "      <td>137</td>\n",
              "      <td>171</td>\n",
              "      <td>154</td>\n",
              "    </tr>\n",
              "    <tr>\n",
              "      <th>3</th>\n",
              "      <td>Data Scientist</td>\n",
              "      <td>137-171</td>\n",
              "      <td>JOB DESCRIPTION:\\n\\nDo you have a passion for ...</td>\n",
              "      <td>INFICON\\n3.5</td>\n",
              "      <td>Newton, MA</td>\n",
              "      <td>Bad Ragaz, Switzerland</td>\n",
              "      <td>501 to 1000 employees</td>\n",
              "      <td>2000</td>\n",
              "      <td>Company - Public</td>\n",
              "      <td>Electrical &amp; Electronic Manufacturing</td>\n",
              "      <td>Manufacturing</td>\n",
              "      <td>$100 to $500 million (USD)</td>\n",
              "      <td>MKS Instruments, Pfeiffer Vacuum, Agilent Tech...</td>\n",
              "      <td>data scientist</td>\n",
              "      <td>nil</td>\n",
              "      <td>137</td>\n",
              "      <td>171</td>\n",
              "      <td>154</td>\n",
              "    </tr>\n",
              "    <tr>\n",
              "      <th>4</th>\n",
              "      <td>Data Scientist</td>\n",
              "      <td>137-171</td>\n",
              "      <td>Data Scientist\\nAffinity Solutions / Marketing...</td>\n",
              "      <td>Affinity Solutions\\n2.9</td>\n",
              "      <td>New York, NY</td>\n",
              "      <td>New York, NY</td>\n",
              "      <td>51 to 200 employees</td>\n",
              "      <td>1998</td>\n",
              "      <td>Company - Private</td>\n",
              "      <td>Advertising &amp; Marketing</td>\n",
              "      <td>Business Services</td>\n",
              "      <td>Unknown / Non-Applicable</td>\n",
              "      <td>Commerce Signals, Cardlytics, Yodlee</td>\n",
              "      <td>data scientist</td>\n",
              "      <td>nil</td>\n",
              "      <td>137</td>\n",
              "      <td>171</td>\n",
              "      <td>154</td>\n",
              "    </tr>\n",
              "  </tbody>\n",
              "</table>\n",
              "</div>\n",
              "      <button class=\"colab-df-convert\" onclick=\"convertToInteractive('df-caf4c900-42bd-470c-8b2d-857f9b776a48')\"\n",
              "              title=\"Convert this dataframe to an interactive table.\"\n",
              "              style=\"display:none;\">\n",
              "        \n",
              "  <svg xmlns=\"http://www.w3.org/2000/svg\" height=\"24px\"viewBox=\"0 0 24 24\"\n",
              "       width=\"24px\">\n",
              "    <path d=\"M0 0h24v24H0V0z\" fill=\"none\"/>\n",
              "    <path d=\"M18.56 5.44l.94 2.06.94-2.06 2.06-.94-2.06-.94-.94-2.06-.94 2.06-2.06.94zm-11 1L8.5 8.5l.94-2.06 2.06-.94-2.06-.94L8.5 2.5l-.94 2.06-2.06.94zm10 10l.94 2.06.94-2.06 2.06-.94-2.06-.94-.94-2.06-.94 2.06-2.06.94z\"/><path d=\"M17.41 7.96l-1.37-1.37c-.4-.4-.92-.59-1.43-.59-.52 0-1.04.2-1.43.59L10.3 9.45l-7.72 7.72c-.78.78-.78 2.05 0 2.83L4 21.41c.39.39.9.59 1.41.59.51 0 1.02-.2 1.41-.59l7.78-7.78 2.81-2.81c.8-.78.8-2.07 0-2.86zM5.41 20L4 18.59l7.72-7.72 1.47 1.35L5.41 20z\"/>\n",
              "  </svg>\n",
              "      </button>\n",
              "      \n",
              "  <style>\n",
              "    .colab-df-container {\n",
              "      display:flex;\n",
              "      flex-wrap:wrap;\n",
              "      gap: 12px;\n",
              "    }\n",
              "\n",
              "    .colab-df-convert {\n",
              "      background-color: #E8F0FE;\n",
              "      border: none;\n",
              "      border-radius: 50%;\n",
              "      cursor: pointer;\n",
              "      display: none;\n",
              "      fill: #1967D2;\n",
              "      height: 32px;\n",
              "      padding: 0 0 0 0;\n",
              "      width: 32px;\n",
              "    }\n",
              "\n",
              "    .colab-df-convert:hover {\n",
              "      background-color: #E2EBFA;\n",
              "      box-shadow: 0px 1px 2px rgba(60, 64, 67, 0.3), 0px 1px 3px 1px rgba(60, 64, 67, 0.15);\n",
              "      fill: #174EA6;\n",
              "    }\n",
              "\n",
              "    [theme=dark] .colab-df-convert {\n",
              "      background-color: #3B4455;\n",
              "      fill: #D2E3FC;\n",
              "    }\n",
              "\n",
              "    [theme=dark] .colab-df-convert:hover {\n",
              "      background-color: #434B5C;\n",
              "      box-shadow: 0px 1px 3px 1px rgba(0, 0, 0, 0.15);\n",
              "      filter: drop-shadow(0px 1px 2px rgba(0, 0, 0, 0.3));\n",
              "      fill: #FFFFFF;\n",
              "    }\n",
              "  </style>\n",
              "\n",
              "      <script>\n",
              "        const buttonEl =\n",
              "          document.querySelector('#df-caf4c900-42bd-470c-8b2d-857f9b776a48 button.colab-df-convert');\n",
              "        buttonEl.style.display =\n",
              "          google.colab.kernel.accessAllowed ? 'block' : 'none';\n",
              "\n",
              "        async function convertToInteractive(key) {\n",
              "          const element = document.querySelector('#df-caf4c900-42bd-470c-8b2d-857f9b776a48');\n",
              "          const dataTable =\n",
              "            await google.colab.kernel.invokeFunction('convertToInteractive',\n",
              "                                                     [key], {});\n",
              "          if (!dataTable) return;\n",
              "\n",
              "          const docLinkHtml = 'Like what you see? Visit the ' +\n",
              "            '<a target=\"_blank\" href=https://colab.research.google.com/notebooks/data_table.ipynb>data table notebook</a>'\n",
              "            + ' to learn more about interactive tables.';\n",
              "          element.innerHTML = '';\n",
              "          dataTable['output_type'] = 'display_data';\n",
              "          await google.colab.output.renderOutput(dataTable, element);\n",
              "          const docLink = document.createElement('div');\n",
              "          docLink.innerHTML = docLinkHtml;\n",
              "          element.appendChild(docLink);\n",
              "        }\n",
              "      </script>\n",
              "    </div>\n",
              "  </div>\n",
              "  "
            ]
          },
          "metadata": {},
          "execution_count": 21
        }
      ]
    },
    {
      "cell_type": "code",
      "source": [
        "# cleaning 4th column Company Name\t\n",
        "df1['Company_Name'] = df1['Company Name'].apply(lambda x: x.split('\\n')[0])\n",
        "# new column 'Company_Name' is created "
      ],
      "metadata": {
        "id": "OMzYLEvF1Umd"
      },
      "execution_count": 22,
      "outputs": []
    },
    {
      "cell_type": "code",
      "source": [
        "# cleaning 5th column Location\t\n",
        "df1['Location'].value_counts()\n",
        "\n"
      ],
      "metadata": {
        "colab": {
          "base_uri": "https://localhost:8080/"
        },
        "id": "xiIbNAYf10-m",
        "outputId": "05b45c2a-66cc-495d-88e6-0b46e594321a"
      },
      "execution_count": 23,
      "outputs": [
        {
          "output_type": "execute_result",
          "data": {
            "text/plain": [
              "San Francisco, CA    58\n",
              "New York, NY         50\n",
              "Washington, DC       26\n",
              "Boston, MA           24\n",
              "Chicago, IL          22\n",
              "                     ..\n",
              "Lehi, UT              1\n",
              "Culver City, CA       1\n",
              "Lake Oswego, OR       1\n",
              "New Orleans, LA       1\n",
              "Irwindale, CA         1\n",
              "Name: Location, Length: 207, dtype: int64"
            ]
          },
          "metadata": {},
          "execution_count": 23
        }
      ]
    },
    {
      "cell_type": "code",
      "source": [
        "df1['Location'].unique()\n",
        "\n"
      ],
      "metadata": {
        "colab": {
          "base_uri": "https://localhost:8080/"
        },
        "id": "5f_adeb72LkU",
        "outputId": "179b7896-5702-4b29-84ea-3d98b37c0b24"
      },
      "execution_count": 24,
      "outputs": [
        {
          "output_type": "execute_result",
          "data": {
            "text/plain": [
              "array(['New York, NY', 'Chantilly, VA', 'Boston, MA', 'Newton, MA',\n",
              "       'Santa Barbara, CA', 'Cambridge, MA', 'Bedford, MA',\n",
              "       'San Diego, CA', 'Chicago, IL', 'Herndon, VA', 'Saint Louis, MO',\n",
              "       'Richland, WA', 'Northbrook, IL', 'Washington, DC', 'Remote',\n",
              "       'Memphis, TN', 'Plano, TX', 'West Grove, PA', 'Phoenix, AZ',\n",
              "       'Appleton, WI', 'Atlanta, GA', 'Orlando, FL', 'Lexington, MA',\n",
              "       'McLean, VA', 'San Francisco, CA', 'Sheboygan, WI',\n",
              "       'United States', 'Bothell, WA', 'Lincoln, NE', 'Overland Park, KS',\n",
              "       'Santa Monica, CA', 'Portsmouth, NH', 'Ewing, NJ',\n",
              "       'South San Francisco, CA', 'Palo Alto, CA', 'Bellevue, WA',\n",
              "       'New Orleans, LA', 'Akron, OH', 'Fort Wayne, IN', 'Woburn, MA',\n",
              "       'Carson, CA', 'Coral Gables, FL', 'Santa Clara, CA',\n",
              "       'Brisbane, CA', 'Winter Park, FL', 'Redwood City, CA',\n",
              "       'Peoria, IL', 'Ipswich, MA', 'Carmel, IN', 'Emeryville, CA',\n",
              "       'Gaithersburg, MD', 'Longmont, CO', 'Austin, TX', 'Yakima, WA',\n",
              "       'Santa Cruz, CA', 'Springfield, VA', 'Alexandria, VA', 'Utah',\n",
              "       'Reston, VA', 'Denver, CO', 'New Jersey', 'Aurora, CO',\n",
              "       'Hill AFB, UT', 'Chandler, AZ', 'Indianapolis, IN',\n",
              "       'Nashville, TN', 'Timonium, MD', 'Burlingame, CA',\n",
              "       'Annapolis Junction, MD', 'Bethesda, MD', 'Dayton, OH',\n",
              "       'Schaumburg, IL', 'Cupertino, CA', 'Lehi, UT', 'Culver City, CA',\n",
              "       'Lake Oswego, OR', 'San Mateo, CA', 'Holyoke, MA',\n",
              "       'Woodbridge, NJ', 'Dearborn, MI', 'Maryland Heights, MO',\n",
              "       'Rockville, MD', 'Carpinteria, CA', 'Columbia, SC',\n",
              "       'Hauppauge, NY', 'Fort Meade, MD', 'Columbia, MO', 'Vicksburg, MS',\n",
              "       'Birmingham, AL', 'Blue Bell, PA', 'Cincinnati, OH',\n",
              "       'Harrisburg, PA', 'Oak Ridge, TN', 'San Carlos, CA', 'Waltham, MA',\n",
              "       'Fort Worth, TX', 'Smithfield, RI', 'Cedar Rapids, IA',\n",
              "       'Fort Belvoir, VA', 'Linthicum Heights, MD', 'Maple Plain, MN',\n",
              "       'Tulsa, OK', 'Baltimore, MD', 'Oklahoma City, OK',\n",
              "       'Scotts Valley, CA', 'Spartanburg, SC', 'Hartford, CT',\n",
              "       'Beavercreek, OH', 'Norfolk, VA', 'Charlotte, NC', 'Champaign, IL',\n",
              "       'Texas', 'Hoboken, NJ', 'Lebanon, IN', 'Oakland, CA',\n",
              "       'Melbourne, FL', 'Cleveland, OH', 'Norwell, MA', 'San Jose, CA',\n",
              "       'Piscataway, NJ', 'Danvers, MA', 'Vienna, VA', 'Livermore, CA',\n",
              "       'Pittsburgh, PA', 'Irvine, CA', 'Oshkosh, WI', 'Menlo Park, CA',\n",
              "       'Dallas, TX', 'Arlington, VA', 'Monroe, WI', 'Sacramento, CA',\n",
              "       'Hampton, VA', 'Richmond, VA', 'Monterey, CA', 'Woodlawn, MD',\n",
              "       'Ann Arbor, MI', 'Concord, CA', 'Durham, NC', 'Kent, OH',\n",
              "       'Laurel, MD', 'Columbia, MD', 'Falls Church, VA',\n",
              "       'Thousand Oaks, CA', 'Edison, NJ', 'Adelphi, MD', 'Seattle, WA',\n",
              "       'Sunnyvale, CA', 'Fremont, CA', 'Hamilton, NJ', 'Huntsville, AL',\n",
              "       'Merrifield, VA', 'Madison, WI', 'Philadelphia, PA',\n",
              "       'Winston-Salem, NC', 'Raleigh, NC', 'Burbank, CA', 'San Ramon, CA',\n",
              "       'Oxnard, CA', 'Kansas City, MO', 'Jersey City, NJ',\n",
              "       'Manchester, NH', 'Winters, TX', 'Brooklyn, NY', 'Germantown, MD',\n",
              "       'Omaha, NE', 'Open Fork, VA', 'Ashburn, VA', 'Lombard, IL',\n",
              "       'Alpharetta, GA', 'Boulder, CO', 'Mountain View, CA',\n",
              "       'Trumbull, CT', 'Sterling, VA', 'Foster City, CA', 'Frederick, MD',\n",
              "       'Colorado Springs, CO', 'Southfield, MI', 'San Clemente, CA',\n",
              "       'The Woodlands, TX', 'Pleasanton, CA', 'Wilmington, DE',\n",
              "       'Fort Sam Houston, TX', 'Lexington Park, MD',\n",
              "       'Patuxent, Anne Arundel, MD', 'Fairfax, VA', 'San Antonio, TX',\n",
              "       'Silver Spring, MD', 'Portland, OR', 'Simi Valley, CA',\n",
              "       'New Bedford, MA', 'Rancho Cucamonga, CA', 'Collegeville, PA',\n",
              "       'Minneapolis, MN', 'Gahanna, OH', 'California', 'Wellesley, MA',\n",
              "       'Washington, VA', 'Orange, CA', 'Bridgeport, WV', 'Oakville, CA',\n",
              "       'Naperville, IL', 'Houston, TX', 'Redmond, WA', 'West Chester, PA',\n",
              "       'Quantico, VA', 'Fort Lee, NJ', 'Irwindale, CA'], dtype=object)"
            ]
          },
          "metadata": {},
          "execution_count": 24
        }
      ]
    },
    {
      "cell_type": "code",
      "source": [
        "# merging state names --keeping only state names\n",
        "df1['job_location'] = df1['Location'].apply(lambda x: x.split(',')[-1])\n",
        "df1.head()"
      ],
      "metadata": {
        "colab": {
          "base_uri": "https://localhost:8080/",
          "height": 530
        },
        "id": "HS7IqYp12n3r",
        "outputId": "c57a18a3-1912-42a8-cb04-491ef2cd5ea1"
      },
      "execution_count": 25,
      "outputs": [
        {
          "output_type": "execute_result",
          "data": {
            "text/plain": [
              "           Job Title Salary Estimate  \\\n",
              "0  Sr Data Scientist        137-171    \n",
              "1     Data Scientist        137-171    \n",
              "2     Data Scientist        137-171    \n",
              "3     Data Scientist        137-171    \n",
              "4     Data Scientist        137-171    \n",
              "\n",
              "                                     Job Description             Company Name  \\\n",
              "0  Description\\n\\nThe Senior Data Scientist is re...         Healthfirst\\n3.1   \n",
              "1  Secure our Nation, Ignite your Future\\n\\nJoin ...             ManTech\\n4.2   \n",
              "2  Overview\\n\\n\\nAnalysis Group is one of the lar...      Analysis Group\\n3.8   \n",
              "3  JOB DESCRIPTION:\\n\\nDo you have a passion for ...             INFICON\\n3.5   \n",
              "4  Data Scientist\\nAffinity Solutions / Marketing...  Affinity Solutions\\n2.9   \n",
              "\n",
              "        Location            Headquarters                     Size  Founded  \\\n",
              "0   New York, NY            New York, NY   1001 to 5000 employees     1993   \n",
              "1  Chantilly, VA             Herndon, VA  5001 to 10000 employees     1968   \n",
              "2     Boston, MA              Boston, MA   1001 to 5000 employees     1981   \n",
              "3     Newton, MA  Bad Ragaz, Switzerland    501 to 1000 employees     2000   \n",
              "4   New York, NY            New York, NY      51 to 200 employees     1998   \n",
              "\n",
              "         Type of ownership                               Industry  \\\n",
              "0   Nonprofit Organization                     Insurance Carriers   \n",
              "1         Company - Public                 Research & Development   \n",
              "2  Private Practice / Firm                             Consulting   \n",
              "3         Company - Public  Electrical & Electronic Manufacturing   \n",
              "4        Company - Private                Advertising & Marketing   \n",
              "\n",
              "              Sector                     Revenue  \\\n",
              "0          Insurance    Unknown / Non-Applicable   \n",
              "1  Business Services      $1 to $2 billion (USD)   \n",
              "2  Business Services  $100 to $500 million (USD)   \n",
              "3      Manufacturing  $100 to $500 million (USD)   \n",
              "4  Business Services    Unknown / Non-Applicable   \n",
              "\n",
              "                                         Competitors       new_title  \\\n",
              "0            EmblemHealth, UnitedHealth Group, Aetna  data scientist   \n",
              "1                                                 -1  data scientist   \n",
              "2                                                 -1  data scientist   \n",
              "3  MKS Instruments, Pfeiffer Vacuum, Agilent Tech...  data scientist   \n",
              "4               Commerce Signals, Cardlytics, Yodlee  data scientist   \n",
              "\n",
              "  exp_level  min_salary  max_salary  avg_salary        Company_Name  \\\n",
              "0    senior         137         171         154         Healthfirst   \n",
              "1       nil         137         171         154             ManTech   \n",
              "2       nil         137         171         154      Analysis Group   \n",
              "3       nil         137         171         154             INFICON   \n",
              "4       nil         137         171         154  Affinity Solutions   \n",
              "\n",
              "  job_location  \n",
              "0           NY  \n",
              "1           VA  \n",
              "2           MA  \n",
              "3           MA  \n",
              "4           NY  "
            ],
            "text/html": [
              "\n",
              "  <div id=\"df-27cf3e5c-292d-403a-8626-e9bb2909413f\">\n",
              "    <div class=\"colab-df-container\">\n",
              "      <div>\n",
              "<style scoped>\n",
              "    .dataframe tbody tr th:only-of-type {\n",
              "        vertical-align: middle;\n",
              "    }\n",
              "\n",
              "    .dataframe tbody tr th {\n",
              "        vertical-align: top;\n",
              "    }\n",
              "\n",
              "    .dataframe thead th {\n",
              "        text-align: right;\n",
              "    }\n",
              "</style>\n",
              "<table border=\"1\" class=\"dataframe\">\n",
              "  <thead>\n",
              "    <tr style=\"text-align: right;\">\n",
              "      <th></th>\n",
              "      <th>Job Title</th>\n",
              "      <th>Salary Estimate</th>\n",
              "      <th>Job Description</th>\n",
              "      <th>Company Name</th>\n",
              "      <th>Location</th>\n",
              "      <th>Headquarters</th>\n",
              "      <th>Size</th>\n",
              "      <th>Founded</th>\n",
              "      <th>Type of ownership</th>\n",
              "      <th>Industry</th>\n",
              "      <th>Sector</th>\n",
              "      <th>Revenue</th>\n",
              "      <th>Competitors</th>\n",
              "      <th>new_title</th>\n",
              "      <th>exp_level</th>\n",
              "      <th>min_salary</th>\n",
              "      <th>max_salary</th>\n",
              "      <th>avg_salary</th>\n",
              "      <th>Company_Name</th>\n",
              "      <th>job_location</th>\n",
              "    </tr>\n",
              "  </thead>\n",
              "  <tbody>\n",
              "    <tr>\n",
              "      <th>0</th>\n",
              "      <td>Sr Data Scientist</td>\n",
              "      <td>137-171</td>\n",
              "      <td>Description\\n\\nThe Senior Data Scientist is re...</td>\n",
              "      <td>Healthfirst\\n3.1</td>\n",
              "      <td>New York, NY</td>\n",
              "      <td>New York, NY</td>\n",
              "      <td>1001 to 5000 employees</td>\n",
              "      <td>1993</td>\n",
              "      <td>Nonprofit Organization</td>\n",
              "      <td>Insurance Carriers</td>\n",
              "      <td>Insurance</td>\n",
              "      <td>Unknown / Non-Applicable</td>\n",
              "      <td>EmblemHealth, UnitedHealth Group, Aetna</td>\n",
              "      <td>data scientist</td>\n",
              "      <td>senior</td>\n",
              "      <td>137</td>\n",
              "      <td>171</td>\n",
              "      <td>154</td>\n",
              "      <td>Healthfirst</td>\n",
              "      <td>NY</td>\n",
              "    </tr>\n",
              "    <tr>\n",
              "      <th>1</th>\n",
              "      <td>Data Scientist</td>\n",
              "      <td>137-171</td>\n",
              "      <td>Secure our Nation, Ignite your Future\\n\\nJoin ...</td>\n",
              "      <td>ManTech\\n4.2</td>\n",
              "      <td>Chantilly, VA</td>\n",
              "      <td>Herndon, VA</td>\n",
              "      <td>5001 to 10000 employees</td>\n",
              "      <td>1968</td>\n",
              "      <td>Company - Public</td>\n",
              "      <td>Research &amp; Development</td>\n",
              "      <td>Business Services</td>\n",
              "      <td>$1 to $2 billion (USD)</td>\n",
              "      <td>-1</td>\n",
              "      <td>data scientist</td>\n",
              "      <td>nil</td>\n",
              "      <td>137</td>\n",
              "      <td>171</td>\n",
              "      <td>154</td>\n",
              "      <td>ManTech</td>\n",
              "      <td>VA</td>\n",
              "    </tr>\n",
              "    <tr>\n",
              "      <th>2</th>\n",
              "      <td>Data Scientist</td>\n",
              "      <td>137-171</td>\n",
              "      <td>Overview\\n\\n\\nAnalysis Group is one of the lar...</td>\n",
              "      <td>Analysis Group\\n3.8</td>\n",
              "      <td>Boston, MA</td>\n",
              "      <td>Boston, MA</td>\n",
              "      <td>1001 to 5000 employees</td>\n",
              "      <td>1981</td>\n",
              "      <td>Private Practice / Firm</td>\n",
              "      <td>Consulting</td>\n",
              "      <td>Business Services</td>\n",
              "      <td>$100 to $500 million (USD)</td>\n",
              "      <td>-1</td>\n",
              "      <td>data scientist</td>\n",
              "      <td>nil</td>\n",
              "      <td>137</td>\n",
              "      <td>171</td>\n",
              "      <td>154</td>\n",
              "      <td>Analysis Group</td>\n",
              "      <td>MA</td>\n",
              "    </tr>\n",
              "    <tr>\n",
              "      <th>3</th>\n",
              "      <td>Data Scientist</td>\n",
              "      <td>137-171</td>\n",
              "      <td>JOB DESCRIPTION:\\n\\nDo you have a passion for ...</td>\n",
              "      <td>INFICON\\n3.5</td>\n",
              "      <td>Newton, MA</td>\n",
              "      <td>Bad Ragaz, Switzerland</td>\n",
              "      <td>501 to 1000 employees</td>\n",
              "      <td>2000</td>\n",
              "      <td>Company - Public</td>\n",
              "      <td>Electrical &amp; Electronic Manufacturing</td>\n",
              "      <td>Manufacturing</td>\n",
              "      <td>$100 to $500 million (USD)</td>\n",
              "      <td>MKS Instruments, Pfeiffer Vacuum, Agilent Tech...</td>\n",
              "      <td>data scientist</td>\n",
              "      <td>nil</td>\n",
              "      <td>137</td>\n",
              "      <td>171</td>\n",
              "      <td>154</td>\n",
              "      <td>INFICON</td>\n",
              "      <td>MA</td>\n",
              "    </tr>\n",
              "    <tr>\n",
              "      <th>4</th>\n",
              "      <td>Data Scientist</td>\n",
              "      <td>137-171</td>\n",
              "      <td>Data Scientist\\nAffinity Solutions / Marketing...</td>\n",
              "      <td>Affinity Solutions\\n2.9</td>\n",
              "      <td>New York, NY</td>\n",
              "      <td>New York, NY</td>\n",
              "      <td>51 to 200 employees</td>\n",
              "      <td>1998</td>\n",
              "      <td>Company - Private</td>\n",
              "      <td>Advertising &amp; Marketing</td>\n",
              "      <td>Business Services</td>\n",
              "      <td>Unknown / Non-Applicable</td>\n",
              "      <td>Commerce Signals, Cardlytics, Yodlee</td>\n",
              "      <td>data scientist</td>\n",
              "      <td>nil</td>\n",
              "      <td>137</td>\n",
              "      <td>171</td>\n",
              "      <td>154</td>\n",
              "      <td>Affinity Solutions</td>\n",
              "      <td>NY</td>\n",
              "    </tr>\n",
              "  </tbody>\n",
              "</table>\n",
              "</div>\n",
              "      <button class=\"colab-df-convert\" onclick=\"convertToInteractive('df-27cf3e5c-292d-403a-8626-e9bb2909413f')\"\n",
              "              title=\"Convert this dataframe to an interactive table.\"\n",
              "              style=\"display:none;\">\n",
              "        \n",
              "  <svg xmlns=\"http://www.w3.org/2000/svg\" height=\"24px\"viewBox=\"0 0 24 24\"\n",
              "       width=\"24px\">\n",
              "    <path d=\"M0 0h24v24H0V0z\" fill=\"none\"/>\n",
              "    <path d=\"M18.56 5.44l.94 2.06.94-2.06 2.06-.94-2.06-.94-.94-2.06-.94 2.06-2.06.94zm-11 1L8.5 8.5l.94-2.06 2.06-.94-2.06-.94L8.5 2.5l-.94 2.06-2.06.94zm10 10l.94 2.06.94-2.06 2.06-.94-2.06-.94-.94-2.06-.94 2.06-2.06.94z\"/><path d=\"M17.41 7.96l-1.37-1.37c-.4-.4-.92-.59-1.43-.59-.52 0-1.04.2-1.43.59L10.3 9.45l-7.72 7.72c-.78.78-.78 2.05 0 2.83L4 21.41c.39.39.9.59 1.41.59.51 0 1.02-.2 1.41-.59l7.78-7.78 2.81-2.81c.8-.78.8-2.07 0-2.86zM5.41 20L4 18.59l7.72-7.72 1.47 1.35L5.41 20z\"/>\n",
              "  </svg>\n",
              "      </button>\n",
              "      \n",
              "  <style>\n",
              "    .colab-df-container {\n",
              "      display:flex;\n",
              "      flex-wrap:wrap;\n",
              "      gap: 12px;\n",
              "    }\n",
              "\n",
              "    .colab-df-convert {\n",
              "      background-color: #E8F0FE;\n",
              "      border: none;\n",
              "      border-radius: 50%;\n",
              "      cursor: pointer;\n",
              "      display: none;\n",
              "      fill: #1967D2;\n",
              "      height: 32px;\n",
              "      padding: 0 0 0 0;\n",
              "      width: 32px;\n",
              "    }\n",
              "\n",
              "    .colab-df-convert:hover {\n",
              "      background-color: #E2EBFA;\n",
              "      box-shadow: 0px 1px 2px rgba(60, 64, 67, 0.3), 0px 1px 3px 1px rgba(60, 64, 67, 0.15);\n",
              "      fill: #174EA6;\n",
              "    }\n",
              "\n",
              "    [theme=dark] .colab-df-convert {\n",
              "      background-color: #3B4455;\n",
              "      fill: #D2E3FC;\n",
              "    }\n",
              "\n",
              "    [theme=dark] .colab-df-convert:hover {\n",
              "      background-color: #434B5C;\n",
              "      box-shadow: 0px 1px 3px 1px rgba(0, 0, 0, 0.15);\n",
              "      filter: drop-shadow(0px 1px 2px rgba(0, 0, 0, 0.3));\n",
              "      fill: #FFFFFF;\n",
              "    }\n",
              "  </style>\n",
              "\n",
              "      <script>\n",
              "        const buttonEl =\n",
              "          document.querySelector('#df-27cf3e5c-292d-403a-8626-e9bb2909413f button.colab-df-convert');\n",
              "        buttonEl.style.display =\n",
              "          google.colab.kernel.accessAllowed ? 'block' : 'none';\n",
              "\n",
              "        async function convertToInteractive(key) {\n",
              "          const element = document.querySelector('#df-27cf3e5c-292d-403a-8626-e9bb2909413f');\n",
              "          const dataTable =\n",
              "            await google.colab.kernel.invokeFunction('convertToInteractive',\n",
              "                                                     [key], {});\n",
              "          if (!dataTable) return;\n",
              "\n",
              "          const docLinkHtml = 'Like what you see? Visit the ' +\n",
              "            '<a target=\"_blank\" href=https://colab.research.google.com/notebooks/data_table.ipynb>data table notebook</a>'\n",
              "            + ' to learn more about interactive tables.';\n",
              "          element.innerHTML = '';\n",
              "          dataTable['output_type'] = 'display_data';\n",
              "          await google.colab.output.renderOutput(dataTable, element);\n",
              "          const docLink = document.createElement('div');\n",
              "          docLink.innerHTML = docLinkHtml;\n",
              "          element.appendChild(docLink);\n",
              "        }\n",
              "      </script>\n",
              "    </div>\n",
              "  </div>\n",
              "  "
            ]
          },
          "metadata": {},
          "execution_count": 25
        }
      ]
    },
    {
      "cell_type": "code",
      "source": [
        "df1['job_location'].unique()"
      ],
      "metadata": {
        "colab": {
          "base_uri": "https://localhost:8080/"
        },
        "id": "_7gZCYGd3GEi",
        "outputId": "ecbcb94a-098b-4216-84d4-464a26dbd188"
      },
      "execution_count": 26,
      "outputs": [
        {
          "output_type": "execute_result",
          "data": {
            "text/plain": [
              "array([' NY', ' VA', ' MA', ' CA', ' IL', ' MO', ' WA', ' DC', 'Remote',\n",
              "       ' TN', ' TX', ' PA', ' AZ', ' WI', ' GA', ' FL', 'United States',\n",
              "       ' NE', ' KS', ' NH', ' NJ', ' LA', ' OH', ' IN', ' MD', ' CO',\n",
              "       'Utah', 'New Jersey', ' UT', ' OR', ' MI', ' SC', ' MS', ' AL',\n",
              "       ' RI', ' IA', ' MN', ' OK', ' CT', ' NC', 'Texas', ' DE',\n",
              "       'California', ' WV'], dtype=object)"
            ]
          },
          "metadata": {},
          "execution_count": 26
        }
      ]
    },
    {
      "cell_type": "code",
      "source": [
        "# similary for headquaters\n",
        "df1['Headquarters'].unique()"
      ],
      "metadata": {
        "colab": {
          "base_uri": "https://localhost:8080/"
        },
        "id": "dMBKiQHg3nZI",
        "outputId": "758d4d6e-8702-4d79-f026-1c982e2d1f77"
      },
      "execution_count": 27,
      "outputs": [
        {
          "output_type": "execute_result",
          "data": {
            "text/plain": [
              "array(['New York, NY', 'Herndon, VA', 'Boston, MA',\n",
              "       'Bad Ragaz, Switzerland', 'Santa Barbara, CA',\n",
              "       'Basel, Switzerland', 'Bedford, MA', 'Mountain View, CA',\n",
              "       'Chicago, IL', 'Mc Lean, VA', 'Saint Louis, MO', 'Richland, WA',\n",
              "       'Northbrook, IL', 'Princeton, NJ', 'Mays Landing, NJ',\n",
              "       'Washington, DC', 'Memphis, TN', 'Tempe, AZ', 'Reading, PA',\n",
              "       'San Francisco, CA', 'Menlo Park, CA', 'Atlanta, GA',\n",
              "       'Orlando, FL', 'Lexington, MA', 'Falls Church, VA',\n",
              "       'Sheboygan, WI', 'Seattle, WA', 'Bellevue, WA', 'Lincoln, NE',\n",
              "       'Chantilly, VA', 'Santa Monica, CA', 'Ewing, NJ',\n",
              "       'South San Francisco, CA', 'Palo Alto, CA', 'Singapore, Singapore',\n",
              "       'Cambridge, MA', 'OSAKA, Japan', 'Santa Clara, CA', 'Vienna, VA',\n",
              "       'New Orleans, LA', 'Akron, OH', 'Zurich, Switzerland',\n",
              "       'Woburn, MA', 'Carson, CA', 'Coral Gables, FL', 'San Ramon, CA',\n",
              "       'Brisbane, CA', 'Winter Park, FL', 'San Rafael, CA',\n",
              "       'Deerfield, IL', 'Ipswich, MA', 'Carmel, IN', 'Chevy Chase, MD',\n",
              "       'Hartford, CT', 'Emeryville, CA', 'Cambridge, United Kingdom',\n",
              "       'Rockville, MD', 'Minneapolis, MN', 'Austin, TX', 'Yakima, WA',\n",
              "       'Santa Cruz, CA', 'South Jordan, UT', 'Reston, VA', 'Denver, CO',\n",
              "       'Holmdel, NJ', 'Aurora, CO', 'San Mateo, CA', 'Goleta, CA',\n",
              "       'Franklin, TN', 'Indianapolis, IN', 'Lutherville Timonium, MD',\n",
              "       'Westminster, CO', 'Burlingame, CA', 'Annapolis Junction, MD',\n",
              "       'Bethesda, MD', 'Beavercreek, OH', 'Schaumburg, IL',\n",
              "       'Sunnyvale, CA', 'Lehi, UT', 'Lake Oswego, OR', 'Holyoke, MA',\n",
              "       'Dulles, VA', 'San Diego, CA', 'Detroit, MI', 'Stamford, CT',\n",
              "       'Carpinteria, CA', 'Columbia, SC', '-1', \"Marcy-l'Etoile, France\",\n",
              "       'Columbia, MO', 'Fairfax, VA', 'Chandler, AZ', 'Aurora, Canada',\n",
              "       'Blue Bell, PA', 'Troy, MI', 'Redwood City, CA', 'Greenville, SC',\n",
              "       'Arlington, VA', 'Harrisburg, PA', 'Hamilton, Bermuda',\n",
              "       'Lynchburg, VA', 'Springfield, MA', 'San Carlos, CA',\n",
              "       'Waltham, MA', 'San Jose, CA', 'Jersey City, NJ', 'Fort Worth, TX',\n",
              "       'Cedar Rapids, IA', 'McLean, VA', 'Lorton, VA', 'Maple Plain, MN',\n",
              "       'Kent, WA', 'Woodbine, MD', 'San Antonio, TX', 'Scotts Valley, CA',\n",
              "       'Spartanburg, SC', 'Woodbridge, NJ', 'Chennai, India',\n",
              "       'Tel Aviv-Yafo, Israel', 'Baltimore, MD', 'Manalapan, NJ',\n",
              "       'Charlotte, NC', 'Saxonburg, PA', 'Bristol, PA',\n",
              "       'Bangalore, India', 'Hoboken, NJ', 'Paris, France',\n",
              "       'Greenwich, CT', 'Santa Ana, CA', 'Houston, TX', 'Tucson, AZ',\n",
              "       'Birmingham, AL', 'Cleveland, OH', 'Pleasanton, CA',\n",
              "       'Columbus, OH', 'Piscataway, NJ', 'Danvers, MA',\n",
              "       'Philadelphia, PA', 'Livermore, CA', 'Pittsburgh, PA',\n",
              "       'Dallas, TX', 'Toronto, Canada', 'Irvine, CA', 'Hillsborough, NJ',\n",
              "       'Oshkosh, WI', 'Fremont, CA', 'Monroe, WI', 'Goteborg, Sweden',\n",
              "       'Lake Buena Vista, FL', 'Schaffhausen, Switzerland',\n",
              "       'Richmond, VA', 'Newark, CA', 'Greensboro, NC', 'Scottsdale, AZ',\n",
              "       'Irving, TX', 'Beltsville, MD', 'Naperville, IL',\n",
              "       'Brentford, United Kingdom', 'Cincinnati, OH', 'Somerset, NJ',\n",
              "       'London, United Kingdom', 'Raleigh, NC', 'Leesburg, VA',\n",
              "       'Durham, NC', 'Kent, OH', 'Westlake Village, CA',\n",
              "       'North Brunswick, NJ', 'Benicia, CA', 'Laurel, MD', 'Columbia, MD',\n",
              "       'Danville, CA', 'Wilmington, MA', 'New York, 061', 'Reading, MA',\n",
              "       'Folsom, CA', 'Wilsonville, OR', 'Huntsville, AL', 'Madison, WI',\n",
              "       'Phila, PA', 'Winston-Salem, NC', 'Half Moon Bay, CA',\n",
              "       'Los Angeles, CA', 'Hilliard, OH', 'Hanover, MD',\n",
              "       'Kansas City, MO', 'Bengaluru, India', 'Alpharetta, GA',\n",
              "       'Germantown, MD', 'Omaha, NE', 'Clifton Park, NY', 'Livonia, MI',\n",
              "       'Ashburn, VA', 'Nashville, TN', 'Alexandria, VA', 'Edison, NJ',\n",
              "       'Ventura, CA', 'Armonk, NY', 'Trumbull, CT', 'Chadds Ford, PA',\n",
              "       'Saint Paul, MN', 'Glen Allen, VA', 'Aliso Viejo, CA',\n",
              "       'Plainsboro, NJ', 'Fairmont, WV', 'Cherry Hill, NJ', 'Itasca, IL',\n",
              "       'Coconut Creek, FL', 'Lombard, IL', 'Honolulu, HI',\n",
              "       'Carle Place, NY', 'Cupertino, CA', 'Tampa, FL', 'Totowa, NJ',\n",
              "       'Rome, NY', 'Milan, IL', 'Marbella, Spain', 'Simi Valley, CA',\n",
              "       'Rancho Cucamonga, CA', 'Albuquerque, NM', 'Langley, VA',\n",
              "       'Plano, TX', 'Albertville, AL', 'Orange, CA', 'Littleton, CO',\n",
              "       'Oakville, Canada', 'San Bruno, CA', 'West Chester, PA',\n",
              "       'Utica, MI', 'Fort Lee, NJ'], dtype=object)"
            ]
          },
          "metadata": {},
          "execution_count": 27
        }
      ]
    },
    {
      "cell_type": "code",
      "source": [
        "df1['company_hq'] = df1['Headquarters'].apply(lambda x: x.split(',')[-1])"
      ],
      "metadata": {
        "id": "VEJVxLuK363Q"
      },
      "execution_count": 28,
      "outputs": []
    },
    {
      "cell_type": "code",
      "source": [
        "df1['company_hq'].unique()"
      ],
      "metadata": {
        "colab": {
          "base_uri": "https://localhost:8080/"
        },
        "id": "9DHckSk-4OHg",
        "outputId": "5e54f3fe-3afb-4f18-da45-55d257877164"
      },
      "execution_count": 29,
      "outputs": [
        {
          "output_type": "execute_result",
          "data": {
            "text/plain": [
              "array([' NY', ' VA', ' MA', ' Switzerland', ' CA', ' IL', ' MO', ' WA',\n",
              "       ' NJ', ' DC', ' TN', ' AZ', ' PA', ' GA', ' FL', ' WI', ' NE',\n",
              "       ' Singapore', ' Japan', ' LA', ' OH', ' IN', ' MD', ' CT',\n",
              "       ' United Kingdom', ' MN', ' TX', ' UT', ' CO', ' OR', ' MI', ' SC',\n",
              "       '-1', ' France', ' Canada', ' Bermuda', ' IA', ' India', ' Israel',\n",
              "       ' NC', ' AL', ' Sweden', ' 061', ' WV', ' HI', ' Spain', ' NM'],\n",
              "      dtype=object)"
            ]
          },
          "metadata": {},
          "execution_count": 29
        }
      ]
    },
    {
      "cell_type": "code",
      "source": [
        "# replacing -1 with 'na'\n",
        "df1['company_hq'] = df1['company_hq'].apply(lambda x :'na' if x=='-1' else x)"
      ],
      "metadata": {
        "id": "xI-6OLN85hlp"
      },
      "execution_count": 30,
      "outputs": []
    },
    {
      "cell_type": "code",
      "source": [
        "# cleaning size column\n",
        "df1['Size'].unique()"
      ],
      "metadata": {
        "colab": {
          "base_uri": "https://localhost:8080/"
        },
        "id": "3UnbXHbm_e3e",
        "outputId": "2dbddaed-331c-4e1b-b866-bc1085dbc60b"
      },
      "execution_count": 31,
      "outputs": [
        {
          "output_type": "execute_result",
          "data": {
            "text/plain": [
              "array(['1001 to 5000 employees', '5001 to 10000 employees',\n",
              "       '501 to 1000 employees', '51 to 200 employees', '10000+ employees',\n",
              "       '201 to 500 employees', '1 to 50 employees', '-1', 'Unknown'],\n",
              "      dtype=object)"
            ]
          },
          "metadata": {},
          "execution_count": 31
        }
      ]
    },
    {
      "cell_type": "code",
      "source": [
        "df1['Size'] = df1['Size'].apply(lambda x :'unknown' if x=='-1' or x=='Unknown' else x)"
      ],
      "metadata": {
        "id": "BfCK9GhD_6Vo"
      },
      "execution_count": 32,
      "outputs": []
    },
    {
      "cell_type": "code",
      "source": [
        "df1['Size'].unique()\n"
      ],
      "metadata": {
        "colab": {
          "base_uri": "https://localhost:8080/"
        },
        "id": "tk63ksPuASqo",
        "outputId": "74ce3c5c-345d-4d81-ba25-2c00ffb1991f"
      },
      "execution_count": 33,
      "outputs": [
        {
          "output_type": "execute_result",
          "data": {
            "text/plain": [
              "array(['1001 to 5000 employees', '5001 to 10000 employees',\n",
              "       '501 to 1000 employees', '51 to 200 employees', '10000+ employees',\n",
              "       '201 to 500 employees', '1 to 50 employees', 'unknown'],\n",
              "      dtype=object)"
            ]
          },
          "metadata": {},
          "execution_count": 33
        }
      ]
    },
    {
      "cell_type": "code",
      "source": [
        "df1['Founded'].value_counts()"
      ],
      "metadata": {
        "colab": {
          "base_uri": "https://localhost:8080/"
        },
        "id": "sHtRupBGBPnN",
        "outputId": "dd4e4043-5030-4c77-aa98-c819347ec8cc"
      },
      "execution_count": 34,
      "outputs": [
        {
          "output_type": "execute_result",
          "data": {
            "text/plain": [
              "-1       107\n",
              " 2012     34\n",
              " 2011     24\n",
              " 2010     22\n",
              " 1996     22\n",
              "        ... \n",
              " 1820      1\n",
              " 1952      1\n",
              " 1959      1\n",
              " 1894      1\n",
              " 1962      1\n",
              "Name: Founded, Length: 103, dtype: int64"
            ]
          },
          "metadata": {},
          "execution_count": 34
        }
      ]
    },
    {
      "cell_type": "code",
      "source": [
        "df1['company_age'] = df1['Founded'].apply(lambda x: x if x<1 else 2023-x)"
      ],
      "metadata": {
        "id": "B2NBPtkRBMr8"
      },
      "execution_count": 35,
      "outputs": []
    },
    {
      "cell_type": "code",
      "source": [
        "# cleaning column Type of ownership\n",
        "df1['Type of ownership'].unique()"
      ],
      "metadata": {
        "colab": {
          "base_uri": "https://localhost:8080/"
        },
        "id": "inlAF41eBz5L",
        "outputId": "11c31ac7-f043-4f74-8cc9-b1277c4f1480"
      },
      "execution_count": 36,
      "outputs": [
        {
          "output_type": "execute_result",
          "data": {
            "text/plain": [
              "array(['Nonprofit Organization', 'Company - Public',\n",
              "       'Private Practice / Firm', 'Company - Private', 'Government',\n",
              "       'Subsidiary or Business Segment', 'Other Organization', '-1',\n",
              "       'Unknown', 'Hospital', 'Self-employed', 'College / University',\n",
              "       'Contract'], dtype=object)"
            ]
          },
          "metadata": {},
          "execution_count": 36
        }
      ]
    },
    {
      "cell_type": "code",
      "source": [
        "df1['Type of ownership'] = df1['Type of ownership'].apply(lambda x :'unknown' if x=='-1' or x=='Unknown' else x)"
      ],
      "metadata": {
        "id": "_hOU4fKKCUb4"
      },
      "execution_count": 37,
      "outputs": []
    },
    {
      "cell_type": "code",
      "source": [
        "df1['Type of ownership'].unique()"
      ],
      "metadata": {
        "colab": {
          "base_uri": "https://localhost:8080/"
        },
        "id": "Lm9dfNTQCqzF",
        "outputId": "639cbf83-4a71-457f-f970-69bb6e5d3f3e"
      },
      "execution_count": 38,
      "outputs": [
        {
          "output_type": "execute_result",
          "data": {
            "text/plain": [
              "array(['Nonprofit Organization', 'Company - Public',\n",
              "       'Private Practice / Firm', 'Company - Private', 'Government',\n",
              "       'Subsidiary or Business Segment', 'Other Organization', 'unknown',\n",
              "       'Hospital', 'Self-employed', 'College / University', 'Contract'],\n",
              "      dtype=object)"
            ]
          },
          "metadata": {},
          "execution_count": 38
        }
      ]
    },
    {
      "cell_type": "code",
      "source": [
        "# cleaning 'Industry' column\n",
        "df1['Industry'].unique()"
      ],
      "metadata": {
        "colab": {
          "base_uri": "https://localhost:8080/"
        },
        "id": "x8GvckLQCxOf",
        "outputId": "d470f802-fe95-4659-fe7e-8fa85f399759"
      },
      "execution_count": 39,
      "outputs": [
        {
          "output_type": "execute_result",
          "data": {
            "text/plain": [
              "array(['Insurance Carriers', 'Research & Development', 'Consulting',\n",
              "       'Electrical & Electronic Manufacturing', 'Advertising & Marketing',\n",
              "       'Computer Hardware & Software', 'Biotech & Pharmaceuticals',\n",
              "       'Consumer Electronics & Appliances Stores',\n",
              "       'Enterprise Software & Network Solutions', 'IT Services', 'Energy',\n",
              "       'Chemical Manufacturing', 'Federal Agencies', 'Internet',\n",
              "       'Health Care Services & Hospitals',\n",
              "       'Investment Banking & Asset Management', 'Aerospace & Defense',\n",
              "       'Utilities', '-1', 'Express Delivery Services',\n",
              "       'Staffing & Outsourcing', 'Insurance Agencies & Brokerages',\n",
              "       'Consumer Products Manufacturing', 'Industrial Manufacturing',\n",
              "       'Food & Beverage Manufacturing', 'Banks & Credit Unions',\n",
              "       'Video Games', 'Shipping', 'Telecommunications Services',\n",
              "       'Lending', 'Cable, Internet & Telephone Providers', 'Real Estate',\n",
              "       'Venture Capital & Private Equity', 'Miscellaneous Manufacturing',\n",
              "       'Oil & Gas Services', 'Transportation Equipment Manufacturing',\n",
              "       'Telecommunications Manufacturing', 'Transportation Management',\n",
              "       'News Outlet', 'Architectural & Engineering Services',\n",
              "       'Food & Beverage Stores', 'Other Retail Stores',\n",
              "       'Hotels, Motels, & Resorts', 'State & Regional Agencies',\n",
              "       'Financial Transaction Processing', 'Timber Operations',\n",
              "       'Colleges & Universities', 'Travel Agencies', 'Accounting',\n",
              "       'Logistics & Supply Chain', 'Farm Support Services',\n",
              "       'Social Assistance', 'Construction',\n",
              "       'Department, Clothing, & Shoe Stores', 'Publishing',\n",
              "       'Health, Beauty, & Fitness', 'Wholesale', 'Rail'], dtype=object)"
            ]
          },
          "metadata": {},
          "execution_count": 39
        }
      ]
    },
    {
      "cell_type": "code",
      "source": [
        "df1['Industry'] = df1['Industry'].apply(lambda x :'unknown' if x=='-1' or x=='Unknown' else x)"
      ],
      "metadata": {
        "id": "NTfRHFSiDWj1"
      },
      "execution_count": 40,
      "outputs": []
    },
    {
      "cell_type": "code",
      "source": [
        "df1.drop('Company Name', axis=1, inplace=True)\n",
        "df1.drop('Location', axis=1, inplace=True)\n",
        "df1.drop('Founded', axis=1, inplace=True)"
      ],
      "metadata": {
        "id": "OU7j4UDGFsbW"
      },
      "execution_count": 41,
      "outputs": []
    },
    {
      "cell_type": "code",
      "source": [
        "df1.drop('Job Title', axis=1, inplace=True)\n",
        "# df1.drop('Salary Estimate', axis=1, inplace=True)\n",
        "df1.drop('Headquarters', axis=1, inplace=True)"
      ],
      "metadata": {
        "id": "0djSOedZG_YF"
      },
      "execution_count": 42,
      "outputs": []
    },
    {
      "cell_type": "code",
      "source": [
        "df1.head()"
      ],
      "metadata": {
        "colab": {
          "base_uri": "https://localhost:8080/",
          "height": 530
        },
        "id": "J_88yf22FJrB",
        "outputId": "b152ee0b-d06a-496d-dfca-35b7750be67c"
      },
      "execution_count": 43,
      "outputs": [
        {
          "output_type": "execute_result",
          "data": {
            "text/plain": [
              "  Salary Estimate                                    Job Description  \\\n",
              "0        137-171   Description\\n\\nThe Senior Data Scientist is re...   \n",
              "1        137-171   Secure our Nation, Ignite your Future\\n\\nJoin ...   \n",
              "2        137-171   Overview\\n\\n\\nAnalysis Group is one of the lar...   \n",
              "3        137-171   JOB DESCRIPTION:\\n\\nDo you have a passion for ...   \n",
              "4        137-171   Data Scientist\\nAffinity Solutions / Marketing...   \n",
              "\n",
              "                      Size        Type of ownership  \\\n",
              "0   1001 to 5000 employees   Nonprofit Organization   \n",
              "1  5001 to 10000 employees         Company - Public   \n",
              "2   1001 to 5000 employees  Private Practice / Firm   \n",
              "3    501 to 1000 employees         Company - Public   \n",
              "4      51 to 200 employees        Company - Private   \n",
              "\n",
              "                                Industry             Sector  \\\n",
              "0                     Insurance Carriers          Insurance   \n",
              "1                 Research & Development  Business Services   \n",
              "2                             Consulting  Business Services   \n",
              "3  Electrical & Electronic Manufacturing      Manufacturing   \n",
              "4                Advertising & Marketing  Business Services   \n",
              "\n",
              "                      Revenue  \\\n",
              "0    Unknown / Non-Applicable   \n",
              "1      $1 to $2 billion (USD)   \n",
              "2  $100 to $500 million (USD)   \n",
              "3  $100 to $500 million (USD)   \n",
              "4    Unknown / Non-Applicable   \n",
              "\n",
              "                                         Competitors       new_title  \\\n",
              "0            EmblemHealth, UnitedHealth Group, Aetna  data scientist   \n",
              "1                                                 -1  data scientist   \n",
              "2                                                 -1  data scientist   \n",
              "3  MKS Instruments, Pfeiffer Vacuum, Agilent Tech...  data scientist   \n",
              "4               Commerce Signals, Cardlytics, Yodlee  data scientist   \n",
              "\n",
              "  exp_level  min_salary  max_salary  avg_salary        Company_Name  \\\n",
              "0    senior         137         171         154         Healthfirst   \n",
              "1       nil         137         171         154             ManTech   \n",
              "2       nil         137         171         154      Analysis Group   \n",
              "3       nil         137         171         154             INFICON   \n",
              "4       nil         137         171         154  Affinity Solutions   \n",
              "\n",
              "  job_location    company_hq  company_age  \n",
              "0           NY            NY           30  \n",
              "1           VA            VA           55  \n",
              "2           MA            MA           42  \n",
              "3           MA   Switzerland           23  \n",
              "4           NY            NY           25  "
            ],
            "text/html": [
              "\n",
              "  <div id=\"df-4f266541-2d70-4a4f-a6b0-80142b2619ac\">\n",
              "    <div class=\"colab-df-container\">\n",
              "      <div>\n",
              "<style scoped>\n",
              "    .dataframe tbody tr th:only-of-type {\n",
              "        vertical-align: middle;\n",
              "    }\n",
              "\n",
              "    .dataframe tbody tr th {\n",
              "        vertical-align: top;\n",
              "    }\n",
              "\n",
              "    .dataframe thead th {\n",
              "        text-align: right;\n",
              "    }\n",
              "</style>\n",
              "<table border=\"1\" class=\"dataframe\">\n",
              "  <thead>\n",
              "    <tr style=\"text-align: right;\">\n",
              "      <th></th>\n",
              "      <th>Salary Estimate</th>\n",
              "      <th>Job Description</th>\n",
              "      <th>Size</th>\n",
              "      <th>Type of ownership</th>\n",
              "      <th>Industry</th>\n",
              "      <th>Sector</th>\n",
              "      <th>Revenue</th>\n",
              "      <th>Competitors</th>\n",
              "      <th>new_title</th>\n",
              "      <th>exp_level</th>\n",
              "      <th>min_salary</th>\n",
              "      <th>max_salary</th>\n",
              "      <th>avg_salary</th>\n",
              "      <th>Company_Name</th>\n",
              "      <th>job_location</th>\n",
              "      <th>company_hq</th>\n",
              "      <th>company_age</th>\n",
              "    </tr>\n",
              "  </thead>\n",
              "  <tbody>\n",
              "    <tr>\n",
              "      <th>0</th>\n",
              "      <td>137-171</td>\n",
              "      <td>Description\\n\\nThe Senior Data Scientist is re...</td>\n",
              "      <td>1001 to 5000 employees</td>\n",
              "      <td>Nonprofit Organization</td>\n",
              "      <td>Insurance Carriers</td>\n",
              "      <td>Insurance</td>\n",
              "      <td>Unknown / Non-Applicable</td>\n",
              "      <td>EmblemHealth, UnitedHealth Group, Aetna</td>\n",
              "      <td>data scientist</td>\n",
              "      <td>senior</td>\n",
              "      <td>137</td>\n",
              "      <td>171</td>\n",
              "      <td>154</td>\n",
              "      <td>Healthfirst</td>\n",
              "      <td>NY</td>\n",
              "      <td>NY</td>\n",
              "      <td>30</td>\n",
              "    </tr>\n",
              "    <tr>\n",
              "      <th>1</th>\n",
              "      <td>137-171</td>\n",
              "      <td>Secure our Nation, Ignite your Future\\n\\nJoin ...</td>\n",
              "      <td>5001 to 10000 employees</td>\n",
              "      <td>Company - Public</td>\n",
              "      <td>Research &amp; Development</td>\n",
              "      <td>Business Services</td>\n",
              "      <td>$1 to $2 billion (USD)</td>\n",
              "      <td>-1</td>\n",
              "      <td>data scientist</td>\n",
              "      <td>nil</td>\n",
              "      <td>137</td>\n",
              "      <td>171</td>\n",
              "      <td>154</td>\n",
              "      <td>ManTech</td>\n",
              "      <td>VA</td>\n",
              "      <td>VA</td>\n",
              "      <td>55</td>\n",
              "    </tr>\n",
              "    <tr>\n",
              "      <th>2</th>\n",
              "      <td>137-171</td>\n",
              "      <td>Overview\\n\\n\\nAnalysis Group is one of the lar...</td>\n",
              "      <td>1001 to 5000 employees</td>\n",
              "      <td>Private Practice / Firm</td>\n",
              "      <td>Consulting</td>\n",
              "      <td>Business Services</td>\n",
              "      <td>$100 to $500 million (USD)</td>\n",
              "      <td>-1</td>\n",
              "      <td>data scientist</td>\n",
              "      <td>nil</td>\n",
              "      <td>137</td>\n",
              "      <td>171</td>\n",
              "      <td>154</td>\n",
              "      <td>Analysis Group</td>\n",
              "      <td>MA</td>\n",
              "      <td>MA</td>\n",
              "      <td>42</td>\n",
              "    </tr>\n",
              "    <tr>\n",
              "      <th>3</th>\n",
              "      <td>137-171</td>\n",
              "      <td>JOB DESCRIPTION:\\n\\nDo you have a passion for ...</td>\n",
              "      <td>501 to 1000 employees</td>\n",
              "      <td>Company - Public</td>\n",
              "      <td>Electrical &amp; Electronic Manufacturing</td>\n",
              "      <td>Manufacturing</td>\n",
              "      <td>$100 to $500 million (USD)</td>\n",
              "      <td>MKS Instruments, Pfeiffer Vacuum, Agilent Tech...</td>\n",
              "      <td>data scientist</td>\n",
              "      <td>nil</td>\n",
              "      <td>137</td>\n",
              "      <td>171</td>\n",
              "      <td>154</td>\n",
              "      <td>INFICON</td>\n",
              "      <td>MA</td>\n",
              "      <td>Switzerland</td>\n",
              "      <td>23</td>\n",
              "    </tr>\n",
              "    <tr>\n",
              "      <th>4</th>\n",
              "      <td>137-171</td>\n",
              "      <td>Data Scientist\\nAffinity Solutions / Marketing...</td>\n",
              "      <td>51 to 200 employees</td>\n",
              "      <td>Company - Private</td>\n",
              "      <td>Advertising &amp; Marketing</td>\n",
              "      <td>Business Services</td>\n",
              "      <td>Unknown / Non-Applicable</td>\n",
              "      <td>Commerce Signals, Cardlytics, Yodlee</td>\n",
              "      <td>data scientist</td>\n",
              "      <td>nil</td>\n",
              "      <td>137</td>\n",
              "      <td>171</td>\n",
              "      <td>154</td>\n",
              "      <td>Affinity Solutions</td>\n",
              "      <td>NY</td>\n",
              "      <td>NY</td>\n",
              "      <td>25</td>\n",
              "    </tr>\n",
              "  </tbody>\n",
              "</table>\n",
              "</div>\n",
              "      <button class=\"colab-df-convert\" onclick=\"convertToInteractive('df-4f266541-2d70-4a4f-a6b0-80142b2619ac')\"\n",
              "              title=\"Convert this dataframe to an interactive table.\"\n",
              "              style=\"display:none;\">\n",
              "        \n",
              "  <svg xmlns=\"http://www.w3.org/2000/svg\" height=\"24px\"viewBox=\"0 0 24 24\"\n",
              "       width=\"24px\">\n",
              "    <path d=\"M0 0h24v24H0V0z\" fill=\"none\"/>\n",
              "    <path d=\"M18.56 5.44l.94 2.06.94-2.06 2.06-.94-2.06-.94-.94-2.06-.94 2.06-2.06.94zm-11 1L8.5 8.5l.94-2.06 2.06-.94-2.06-.94L8.5 2.5l-.94 2.06-2.06.94zm10 10l.94 2.06.94-2.06 2.06-.94-2.06-.94-.94-2.06-.94 2.06-2.06.94z\"/><path d=\"M17.41 7.96l-1.37-1.37c-.4-.4-.92-.59-1.43-.59-.52 0-1.04.2-1.43.59L10.3 9.45l-7.72 7.72c-.78.78-.78 2.05 0 2.83L4 21.41c.39.39.9.59 1.41.59.51 0 1.02-.2 1.41-.59l7.78-7.78 2.81-2.81c.8-.78.8-2.07 0-2.86zM5.41 20L4 18.59l7.72-7.72 1.47 1.35L5.41 20z\"/>\n",
              "  </svg>\n",
              "      </button>\n",
              "      \n",
              "  <style>\n",
              "    .colab-df-container {\n",
              "      display:flex;\n",
              "      flex-wrap:wrap;\n",
              "      gap: 12px;\n",
              "    }\n",
              "\n",
              "    .colab-df-convert {\n",
              "      background-color: #E8F0FE;\n",
              "      border: none;\n",
              "      border-radius: 50%;\n",
              "      cursor: pointer;\n",
              "      display: none;\n",
              "      fill: #1967D2;\n",
              "      height: 32px;\n",
              "      padding: 0 0 0 0;\n",
              "      width: 32px;\n",
              "    }\n",
              "\n",
              "    .colab-df-convert:hover {\n",
              "      background-color: #E2EBFA;\n",
              "      box-shadow: 0px 1px 2px rgba(60, 64, 67, 0.3), 0px 1px 3px 1px rgba(60, 64, 67, 0.15);\n",
              "      fill: #174EA6;\n",
              "    }\n",
              "\n",
              "    [theme=dark] .colab-df-convert {\n",
              "      background-color: #3B4455;\n",
              "      fill: #D2E3FC;\n",
              "    }\n",
              "\n",
              "    [theme=dark] .colab-df-convert:hover {\n",
              "      background-color: #434B5C;\n",
              "      box-shadow: 0px 1px 3px 1px rgba(0, 0, 0, 0.15);\n",
              "      filter: drop-shadow(0px 1px 2px rgba(0, 0, 0, 0.3));\n",
              "      fill: #FFFFFF;\n",
              "    }\n",
              "  </style>\n",
              "\n",
              "      <script>\n",
              "        const buttonEl =\n",
              "          document.querySelector('#df-4f266541-2d70-4a4f-a6b0-80142b2619ac button.colab-df-convert');\n",
              "        buttonEl.style.display =\n",
              "          google.colab.kernel.accessAllowed ? 'block' : 'none';\n",
              "\n",
              "        async function convertToInteractive(key) {\n",
              "          const element = document.querySelector('#df-4f266541-2d70-4a4f-a6b0-80142b2619ac');\n",
              "          const dataTable =\n",
              "            await google.colab.kernel.invokeFunction('convertToInteractive',\n",
              "                                                     [key], {});\n",
              "          if (!dataTable) return;\n",
              "\n",
              "          const docLinkHtml = 'Like what you see? Visit the ' +\n",
              "            '<a target=\"_blank\" href=https://colab.research.google.com/notebooks/data_table.ipynb>data table notebook</a>'\n",
              "            + ' to learn more about interactive tables.';\n",
              "          element.innerHTML = '';\n",
              "          dataTable['output_type'] = 'display_data';\n",
              "          await google.colab.output.renderOutput(dataTable, element);\n",
              "          const docLink = document.createElement('div');\n",
              "          docLink.innerHTML = docLinkHtml;\n",
              "          element.appendChild(docLink);\n",
              "        }\n",
              "      </script>\n",
              "    </div>\n",
              "  </div>\n",
              "  "
            ]
          },
          "metadata": {},
          "execution_count": 43
        }
      ]
    },
    {
      "cell_type": "code",
      "source": [
        "# cleaning 'Competitors' column\n",
        "df1['Competitors'].value_counts()"
      ],
      "metadata": {
        "colab": {
          "base_uri": "https://localhost:8080/"
        },
        "id": "4Jl_Iy0nHP9t",
        "outputId": "6f06e3c9-6d23-4460-ec6e-4b1359a60993"
      },
      "execution_count": 44,
      "outputs": [
        {
          "output_type": "execute_result",
          "data": {
            "text/plain": [
              "-1                                                                488\n",
              "Roche, GlaxoSmithKline, Novartis                                   10\n",
              "Los Alamos National Laboratory, Battelle, SRI International         6\n",
              "Leidos, CACI International, Booz Allen Hamilton                     6\n",
              "MIT Lincoln Laboratory, Lockheed Martin, Northrop Grumman           3\n",
              "                                                                 ... \n",
              "Pfizer, GlaxoSmithKline                                             1\n",
              "Square, Amazon, Apple                                               1\n",
              "Lumentum Operations, Keysight Technologies, O-Net Technologies      1\n",
              "Munich Re, Hannover RE, SCOR                                        1\n",
              "Genomic Health, Myriad Genetics, The Broad Institute                1\n",
              "Name: Competitors, Length: 108, dtype: int64"
            ]
          },
          "metadata": {},
          "execution_count": 44
        }
      ]
    },
    {
      "cell_type": "code",
      "source": [
        "df1['Competitors'] = df1['Competitors'].apply(lambda x :'unknown' if x=='-1' else x)"
      ],
      "metadata": {
        "id": "WNDgu-BFHosS"
      },
      "execution_count": 45,
      "outputs": []
    },
    {
      "cell_type": "code",
      "source": [
        "# now analysing and cleaning 'Job Description'\n",
        "df1['Job Description'][0]"
      ],
      "metadata": {
        "colab": {
          "base_uri": "https://localhost:8080/",
          "height": 139
        },
        "id": "vtdSMVqCIh43",
        "outputId": "0a124cdc-8706-4950-c218-6882128858fd"
      },
      "execution_count": 46,
      "outputs": [
        {
          "output_type": "execute_result",
          "data": {
            "text/plain": [
              "\"Description\\n\\nThe Senior Data Scientist is responsible for defining, building, and improving statistical models to improve business processes and outcomes in one or more healthcare domains such as Clinical, Enrollment, Claims, and Finance. As part of the broader analytics team, Data Scientist will gather and analyze data to solve and address complex business problems and evaluate scenarios to make predictions on future outcomes and work with the business to communicate and support decision-making. This position requires strong analytical skills and experience in analytic methods including multivariate regressions, hierarchical linear models, regression trees, clustering methods and other complex statistical techniques.\\n\\nDuties & Responsibilities:\\n\\n• Develops advanced statistical models to predict, quantify or forecast various operational and performance metrics in multiple healthcare domains\\n• Investigates, recommends, and initiates acquisition of new data resources from internal and external sources\\n• Works with multiple teams to support data collection, integration, and retention requirements based on business needs\\n• Identifies critical and emerging technologies that will support and extend quantitative analytic capabilities\\n• Collaborates with business subject matter experts to select relevant sources of information\\n• Develops expertise with multiple machine learning algorithms and data science techniques, such as exploratory data analysis and predictive modeling, graph theory, recommender systems, text analytics and validation\\n• Develops expertise with Healthfirst datasets, data repositories, and data movement processes\\n• Assists on projects/requests and may lead specific tasks within the project scope\\n• Prepares and manipulates data for use in development of statistical models\\n• Other duties as assigned\\n\\nMinimum Qualifications:\\n\\n-Bachelor's Degree\\n\\nPreferred Qualifications:\\n\\n- Master’s degree in Computer Science or Statistics\\nFamiliarity with major cloud platforms such as AWS and Azure\\nHealthcare Industry Experience\\n\\nMinimum Qualifications:\\n\\n-Bachelor's Degree\\n\\nPreferred Qualifications:\\n\\n- Master’s degree in Computer Science or Statistics\\nFamiliarity with major cloud platforms such as AWS and Azure\\nHealthcare Industry Experience\\n\\nWE ARE AN EQUAL OPPORTUNITY EMPLOYER. Applicants and employees are considered for positions and are evaluated without regard to mental or physical disability, race, color, religion, gender, national origin, age, genetic information, military or veteran status, sexual orientation, marital status or any other protected Federal, State/Province or Local status unrelated to the performance of the work involved.\\n\\nIf you have a disability under the Americans with Disability Act or a similar law, and want a reasonable accommodation to assist with your job search or application for employment, please contact us by sending an email to careers@Healthfirst.org or calling 212-519-1798 . In your email please include a description of the accommodation you are requesting and a description of the position for which you are applying. Only reasonable accommodation requests related to applying for a position within Healthfirst Management Services will be reviewed at the e-mail address and phone number supplied. Thank you for considering a career with Healthfirst Management Services.\\nEEO Law Poster and Supplement\\n\\n]]>\""
            ],
            "application/vnd.google.colaboratory.intrinsic+json": {
              "type": "string"
            }
          },
          "metadata": {},
          "execution_count": 46
        }
      ]
    },
    {
      "cell_type": "code",
      "source": [
        "df1['python'] = df1['Job Description'].apply(lambda x: 1 if 'python' in x.lower() else 0)\n",
        "df1['sql'] = df1['Job Description'].apply(lambda x: 1 if 'sql' in x.lower() else 0)\n",
        "df1['ml_dl'] = df1['Job Description'].apply(lambda x: 1 if 'machine learning' in x.lower() or 'deep learning' in x.lower() else 0)\n",
        "df1['excel'] = df1['Job Description'].apply(lambda x: 1 if 'excel' in x.lower() else 0)\n",
        "df1['hadoop'] = df1['Job Description'].apply(lambda x: 1 if 'hadoop' in x.lower() else 0)\n",
        "df1['spark'] = df1['Job Description'].apply(lambda x: 1 if 'spark' in x.lower() else 0)\n",
        "df1['cloud_platform'] = df1['Job Description'].apply(lambda x: 1 if 'aws' in x.lower() or 'azure' in x.lower() else 0)\n",
        "df1['business_intelligence'] = df1['Job Description'].apply(lambda x: 1 if 'tableau' in x.lower() or 'power bi' in x.lower() else 0)\n",
        "df1['big_data'] = df1['Job Description'].apply(lambda x: 1 if 'big data' in x.lower() else 0)\n"
      ],
      "metadata": {
        "id": "N89HPNDtJhnj"
      },
      "execution_count": 47,
      "outputs": []
    },
    {
      "cell_type": "code",
      "source": [
        "# cleaning 'revenue' column\n",
        "df1['Revenue'].unique()"
      ],
      "metadata": {
        "colab": {
          "base_uri": "https://localhost:8080/"
        },
        "id": "tbrN7OaNNidE",
        "outputId": "c72dcf23-ce21-41f9-e256-4c6f401123f1"
      },
      "execution_count": 48,
      "outputs": [
        {
          "output_type": "execute_result",
          "data": {
            "text/plain": [
              "array(['Unknown / Non-Applicable', '$1 to $2 billion (USD)',\n",
              "       '$100 to $500 million (USD)', '$10+ billion (USD)',\n",
              "       '$2 to $5 billion (USD)', '$500 million to $1 billion (USD)',\n",
              "       '$5 to $10 billion (USD)', '$10 to $25 million (USD)',\n",
              "       '$25 to $50 million (USD)', '$50 to $100 million (USD)',\n",
              "       '$1 to $5 million (USD)', '$5 to $10 million (USD)',\n",
              "       'Less than $1 million (USD)', '-1'], dtype=object)"
            ]
          },
          "metadata": {},
          "execution_count": 48
        }
      ]
    },
    {
      "cell_type": "code",
      "source": [
        "df1['Revenue'] = df1['Revenue'].apply(lambda x :'unknown' if x=='-1' or x=='Unknown / Non-Applicable' else x)"
      ],
      "metadata": {
        "id": "dgM7vzmUN3ih"
      },
      "execution_count": 49,
      "outputs": []
    },
    {
      "cell_type": "code",
      "source": [
        "df1.drop('Job Description', axis=1, inplace=True)"
      ],
      "metadata": {
        "id": "i1X61iYrOj5B"
      },
      "execution_count": 50,
      "outputs": []
    },
    {
      "cell_type": "code",
      "source": [
        "df1.head()"
      ],
      "metadata": {
        "colab": {
          "base_uri": "https://localhost:8080/",
          "height": 559
        },
        "id": "hPLpXUGfOJ9L",
        "outputId": "765564c7-7135-4ace-fe00-8fdf292c1011"
      },
      "execution_count": 51,
      "outputs": [
        {
          "output_type": "execute_result",
          "data": {
            "text/plain": [
              "  Salary Estimate                     Size        Type of ownership  \\\n",
              "0        137-171    1001 to 5000 employees   Nonprofit Organization   \n",
              "1        137-171   5001 to 10000 employees         Company - Public   \n",
              "2        137-171    1001 to 5000 employees  Private Practice / Firm   \n",
              "3        137-171     501 to 1000 employees         Company - Public   \n",
              "4        137-171       51 to 200 employees        Company - Private   \n",
              "\n",
              "                                Industry             Sector  \\\n",
              "0                     Insurance Carriers          Insurance   \n",
              "1                 Research & Development  Business Services   \n",
              "2                             Consulting  Business Services   \n",
              "3  Electrical & Electronic Manufacturing      Manufacturing   \n",
              "4                Advertising & Marketing  Business Services   \n",
              "\n",
              "                      Revenue  \\\n",
              "0                     unknown   \n",
              "1      $1 to $2 billion (USD)   \n",
              "2  $100 to $500 million (USD)   \n",
              "3  $100 to $500 million (USD)   \n",
              "4                     unknown   \n",
              "\n",
              "                                         Competitors       new_title  \\\n",
              "0            EmblemHealth, UnitedHealth Group, Aetna  data scientist   \n",
              "1                                            unknown  data scientist   \n",
              "2                                            unknown  data scientist   \n",
              "3  MKS Instruments, Pfeiffer Vacuum, Agilent Tech...  data scientist   \n",
              "4               Commerce Signals, Cardlytics, Yodlee  data scientist   \n",
              "\n",
              "  exp_level  min_salary  ...  company_age  python sql ml_dl excel  hadoop  \\\n",
              "0    senior         137  ...           30       0   0     1     0       0   \n",
              "1       nil         137  ...           55       0   1     1     0       1   \n",
              "2       nil         137  ...           42       1   0     1     1       0   \n",
              "3       nil         137  ...           23       1   1     1     1       0   \n",
              "4       nil         137  ...           25       1   1     1     1       0   \n",
              "\n",
              "   spark  cloud_platform  business_intelligence  big_data  \n",
              "0      0               1                      0         0  \n",
              "1      0               0                      0         1  \n",
              "2      0               1                      0         0  \n",
              "3      0               1                      0         0  \n",
              "4      0               0                      0         0  \n",
              "\n",
              "[5 rows x 25 columns]"
            ],
            "text/html": [
              "\n",
              "  <div id=\"df-a763e64d-ba34-4282-9b1e-a05013020c6b\">\n",
              "    <div class=\"colab-df-container\">\n",
              "      <div>\n",
              "<style scoped>\n",
              "    .dataframe tbody tr th:only-of-type {\n",
              "        vertical-align: middle;\n",
              "    }\n",
              "\n",
              "    .dataframe tbody tr th {\n",
              "        vertical-align: top;\n",
              "    }\n",
              "\n",
              "    .dataframe thead th {\n",
              "        text-align: right;\n",
              "    }\n",
              "</style>\n",
              "<table border=\"1\" class=\"dataframe\">\n",
              "  <thead>\n",
              "    <tr style=\"text-align: right;\">\n",
              "      <th></th>\n",
              "      <th>Salary Estimate</th>\n",
              "      <th>Size</th>\n",
              "      <th>Type of ownership</th>\n",
              "      <th>Industry</th>\n",
              "      <th>Sector</th>\n",
              "      <th>Revenue</th>\n",
              "      <th>Competitors</th>\n",
              "      <th>new_title</th>\n",
              "      <th>exp_level</th>\n",
              "      <th>min_salary</th>\n",
              "      <th>...</th>\n",
              "      <th>company_age</th>\n",
              "      <th>python</th>\n",
              "      <th>sql</th>\n",
              "      <th>ml_dl</th>\n",
              "      <th>excel</th>\n",
              "      <th>hadoop</th>\n",
              "      <th>spark</th>\n",
              "      <th>cloud_platform</th>\n",
              "      <th>business_intelligence</th>\n",
              "      <th>big_data</th>\n",
              "    </tr>\n",
              "  </thead>\n",
              "  <tbody>\n",
              "    <tr>\n",
              "      <th>0</th>\n",
              "      <td>137-171</td>\n",
              "      <td>1001 to 5000 employees</td>\n",
              "      <td>Nonprofit Organization</td>\n",
              "      <td>Insurance Carriers</td>\n",
              "      <td>Insurance</td>\n",
              "      <td>unknown</td>\n",
              "      <td>EmblemHealth, UnitedHealth Group, Aetna</td>\n",
              "      <td>data scientist</td>\n",
              "      <td>senior</td>\n",
              "      <td>137</td>\n",
              "      <td>...</td>\n",
              "      <td>30</td>\n",
              "      <td>0</td>\n",
              "      <td>0</td>\n",
              "      <td>1</td>\n",
              "      <td>0</td>\n",
              "      <td>0</td>\n",
              "      <td>0</td>\n",
              "      <td>1</td>\n",
              "      <td>0</td>\n",
              "      <td>0</td>\n",
              "    </tr>\n",
              "    <tr>\n",
              "      <th>1</th>\n",
              "      <td>137-171</td>\n",
              "      <td>5001 to 10000 employees</td>\n",
              "      <td>Company - Public</td>\n",
              "      <td>Research &amp; Development</td>\n",
              "      <td>Business Services</td>\n",
              "      <td>$1 to $2 billion (USD)</td>\n",
              "      <td>unknown</td>\n",
              "      <td>data scientist</td>\n",
              "      <td>nil</td>\n",
              "      <td>137</td>\n",
              "      <td>...</td>\n",
              "      <td>55</td>\n",
              "      <td>0</td>\n",
              "      <td>1</td>\n",
              "      <td>1</td>\n",
              "      <td>0</td>\n",
              "      <td>1</td>\n",
              "      <td>0</td>\n",
              "      <td>0</td>\n",
              "      <td>0</td>\n",
              "      <td>1</td>\n",
              "    </tr>\n",
              "    <tr>\n",
              "      <th>2</th>\n",
              "      <td>137-171</td>\n",
              "      <td>1001 to 5000 employees</td>\n",
              "      <td>Private Practice / Firm</td>\n",
              "      <td>Consulting</td>\n",
              "      <td>Business Services</td>\n",
              "      <td>$100 to $500 million (USD)</td>\n",
              "      <td>unknown</td>\n",
              "      <td>data scientist</td>\n",
              "      <td>nil</td>\n",
              "      <td>137</td>\n",
              "      <td>...</td>\n",
              "      <td>42</td>\n",
              "      <td>1</td>\n",
              "      <td>0</td>\n",
              "      <td>1</td>\n",
              "      <td>1</td>\n",
              "      <td>0</td>\n",
              "      <td>0</td>\n",
              "      <td>1</td>\n",
              "      <td>0</td>\n",
              "      <td>0</td>\n",
              "    </tr>\n",
              "    <tr>\n",
              "      <th>3</th>\n",
              "      <td>137-171</td>\n",
              "      <td>501 to 1000 employees</td>\n",
              "      <td>Company - Public</td>\n",
              "      <td>Electrical &amp; Electronic Manufacturing</td>\n",
              "      <td>Manufacturing</td>\n",
              "      <td>$100 to $500 million (USD)</td>\n",
              "      <td>MKS Instruments, Pfeiffer Vacuum, Agilent Tech...</td>\n",
              "      <td>data scientist</td>\n",
              "      <td>nil</td>\n",
              "      <td>137</td>\n",
              "      <td>...</td>\n",
              "      <td>23</td>\n",
              "      <td>1</td>\n",
              "      <td>1</td>\n",
              "      <td>1</td>\n",
              "      <td>1</td>\n",
              "      <td>0</td>\n",
              "      <td>0</td>\n",
              "      <td>1</td>\n",
              "      <td>0</td>\n",
              "      <td>0</td>\n",
              "    </tr>\n",
              "    <tr>\n",
              "      <th>4</th>\n",
              "      <td>137-171</td>\n",
              "      <td>51 to 200 employees</td>\n",
              "      <td>Company - Private</td>\n",
              "      <td>Advertising &amp; Marketing</td>\n",
              "      <td>Business Services</td>\n",
              "      <td>unknown</td>\n",
              "      <td>Commerce Signals, Cardlytics, Yodlee</td>\n",
              "      <td>data scientist</td>\n",
              "      <td>nil</td>\n",
              "      <td>137</td>\n",
              "      <td>...</td>\n",
              "      <td>25</td>\n",
              "      <td>1</td>\n",
              "      <td>1</td>\n",
              "      <td>1</td>\n",
              "      <td>1</td>\n",
              "      <td>0</td>\n",
              "      <td>0</td>\n",
              "      <td>0</td>\n",
              "      <td>0</td>\n",
              "      <td>0</td>\n",
              "    </tr>\n",
              "  </tbody>\n",
              "</table>\n",
              "<p>5 rows × 25 columns</p>\n",
              "</div>\n",
              "      <button class=\"colab-df-convert\" onclick=\"convertToInteractive('df-a763e64d-ba34-4282-9b1e-a05013020c6b')\"\n",
              "              title=\"Convert this dataframe to an interactive table.\"\n",
              "              style=\"display:none;\">\n",
              "        \n",
              "  <svg xmlns=\"http://www.w3.org/2000/svg\" height=\"24px\"viewBox=\"0 0 24 24\"\n",
              "       width=\"24px\">\n",
              "    <path d=\"M0 0h24v24H0V0z\" fill=\"none\"/>\n",
              "    <path d=\"M18.56 5.44l.94 2.06.94-2.06 2.06-.94-2.06-.94-.94-2.06-.94 2.06-2.06.94zm-11 1L8.5 8.5l.94-2.06 2.06-.94-2.06-.94L8.5 2.5l-.94 2.06-2.06.94zm10 10l.94 2.06.94-2.06 2.06-.94-2.06-.94-.94-2.06-.94 2.06-2.06.94z\"/><path d=\"M17.41 7.96l-1.37-1.37c-.4-.4-.92-.59-1.43-.59-.52 0-1.04.2-1.43.59L10.3 9.45l-7.72 7.72c-.78.78-.78 2.05 0 2.83L4 21.41c.39.39.9.59 1.41.59.51 0 1.02-.2 1.41-.59l7.78-7.78 2.81-2.81c.8-.78.8-2.07 0-2.86zM5.41 20L4 18.59l7.72-7.72 1.47 1.35L5.41 20z\"/>\n",
              "  </svg>\n",
              "      </button>\n",
              "      \n",
              "  <style>\n",
              "    .colab-df-container {\n",
              "      display:flex;\n",
              "      flex-wrap:wrap;\n",
              "      gap: 12px;\n",
              "    }\n",
              "\n",
              "    .colab-df-convert {\n",
              "      background-color: #E8F0FE;\n",
              "      border: none;\n",
              "      border-radius: 50%;\n",
              "      cursor: pointer;\n",
              "      display: none;\n",
              "      fill: #1967D2;\n",
              "      height: 32px;\n",
              "      padding: 0 0 0 0;\n",
              "      width: 32px;\n",
              "    }\n",
              "\n",
              "    .colab-df-convert:hover {\n",
              "      background-color: #E2EBFA;\n",
              "      box-shadow: 0px 1px 2px rgba(60, 64, 67, 0.3), 0px 1px 3px 1px rgba(60, 64, 67, 0.15);\n",
              "      fill: #174EA6;\n",
              "    }\n",
              "\n",
              "    [theme=dark] .colab-df-convert {\n",
              "      background-color: #3B4455;\n",
              "      fill: #D2E3FC;\n",
              "    }\n",
              "\n",
              "    [theme=dark] .colab-df-convert:hover {\n",
              "      background-color: #434B5C;\n",
              "      box-shadow: 0px 1px 3px 1px rgba(0, 0, 0, 0.15);\n",
              "      filter: drop-shadow(0px 1px 2px rgba(0, 0, 0, 0.3));\n",
              "      fill: #FFFFFF;\n",
              "    }\n",
              "  </style>\n",
              "\n",
              "      <script>\n",
              "        const buttonEl =\n",
              "          document.querySelector('#df-a763e64d-ba34-4282-9b1e-a05013020c6b button.colab-df-convert');\n",
              "        buttonEl.style.display =\n",
              "          google.colab.kernel.accessAllowed ? 'block' : 'none';\n",
              "\n",
              "        async function convertToInteractive(key) {\n",
              "          const element = document.querySelector('#df-a763e64d-ba34-4282-9b1e-a05013020c6b');\n",
              "          const dataTable =\n",
              "            await google.colab.kernel.invokeFunction('convertToInteractive',\n",
              "                                                     [key], {});\n",
              "          if (!dataTable) return;\n",
              "\n",
              "          const docLinkHtml = 'Like what you see? Visit the ' +\n",
              "            '<a target=\"_blank\" href=https://colab.research.google.com/notebooks/data_table.ipynb>data table notebook</a>'\n",
              "            + ' to learn more about interactive tables.';\n",
              "          element.innerHTML = '';\n",
              "          dataTable['output_type'] = 'display_data';\n",
              "          await google.colab.output.renderOutput(dataTable, element);\n",
              "          const docLink = document.createElement('div');\n",
              "          docLink.innerHTML = docLinkHtml;\n",
              "          element.appendChild(docLink);\n",
              "        }\n",
              "      </script>\n",
              "    </div>\n",
              "  </div>\n",
              "  "
            ]
          },
          "metadata": {},
          "execution_count": 51
        }
      ]
    },
    {
      "cell_type": "code",
      "source": [
        "df1.shape"
      ],
      "metadata": {
        "colab": {
          "base_uri": "https://localhost:8080/"
        },
        "id": "0tWL6iRsOvrX",
        "outputId": "d54487d5-e14a-4213-bdb6-e8e8d5becc46"
      },
      "execution_count": 52,
      "outputs": [
        {
          "output_type": "execute_result",
          "data": {
            "text/plain": [
              "(659, 25)"
            ]
          },
          "metadata": {},
          "execution_count": 52
        }
      ]
    },
    {
      "cell_type": "code",
      "source": [
        "df1.columns"
      ],
      "metadata": {
        "colab": {
          "base_uri": "https://localhost:8080/"
        },
        "id": "bb3-uEk1WSFI",
        "outputId": "08cabca2-13ad-4437-fc09-2528f08a7c48"
      },
      "execution_count": 53,
      "outputs": [
        {
          "output_type": "execute_result",
          "data": {
            "text/plain": [
              "Index(['Salary Estimate', 'Size', 'Type of ownership', 'Industry', 'Sector',\n",
              "       'Revenue', 'Competitors', 'new_title', 'exp_level', 'min_salary',\n",
              "       'max_salary', 'avg_salary', 'Company_Name', 'job_location',\n",
              "       'company_hq', 'company_age', 'python', 'sql', 'ml_dl', 'excel',\n",
              "       'hadoop', 'spark', 'cloud_platform', 'business_intelligence',\n",
              "       'big_data'],\n",
              "      dtype='object')"
            ]
          },
          "metadata": {},
          "execution_count": 53
        }
      ]
    },
    {
      "cell_type": "markdown",
      "source": [
        "# Exploratory data analysis\n",
        "exploring solutions to questions"
      ],
      "metadata": {
        "id": "uBHFAJM-O9wM"
      }
    },
    {
      "cell_type": "markdown",
      "source": [
        "# 1. Identify the top five industries with the highest number of job openings"
      ],
      "metadata": {
        "id": "p3J-mXcoVGmW"
      }
    },
    {
      "cell_type": "code",
      "source": [
        "top_industries = df1['Industry'].value_counts().nlargest(6)\n",
        "top_industries "
      ],
      "metadata": {
        "colab": {
          "base_uri": "https://localhost:8080/"
        },
        "id": "jDBPx9vCU2j-",
        "outputId": "d7a2c246-31de-4892-8e68-bb6139d91342"
      },
      "execution_count": 54,
      "outputs": [
        {
          "output_type": "execute_result",
          "data": {
            "text/plain": [
              "Biotech & Pharmaceuticals                  66\n",
              "IT Services                                61\n",
              "unknown                                    60\n",
              "Computer Hardware & Software               56\n",
              "Aerospace & Defense                        46\n",
              "Enterprise Software & Network Solutions    43\n",
              "Name: Industry, dtype: int64"
            ]
          },
          "metadata": {},
          "execution_count": 54
        }
      ]
    },
    {
      "cell_type": "markdown",
      "source": [
        "# 2. Analyze the distribution of job opportunities based on geographic regions"
      ],
      "metadata": {
        "id": "fkP8_uWmVvjJ"
      }
    },
    {
      "cell_type": "code",
      "source": [
        "import pandas as pd\n",
        "import matplotlib.pyplot as plt\n",
        "\n",
        "# Assuming your DataFrame is named 'df'\n",
        "region_role_distribution = df1.groupby(['job_location']).size()\n",
        "\n",
        "plt.figure(figsize=(12, 8))\n",
        "region_role_distribution.plot(kind='bar', stacked=True)\n",
        "plt.title('Job Opportunities Distribution by Geographic Region and Role')\n",
        "plt.xlabel('Geographic Region')\n",
        "plt.ylabel('Number of Job Opportunities')\n",
        "plt.legend(title='Role')\n",
        "plt.show()"
      ],
      "metadata": {
        "colab": {
          "base_uri": "https://localhost:8080/",
          "height": 835
        },
        "id": "nUSXEZLSVu3y",
        "outputId": "1e0448d9-6ea0-49ca-98e1-b58d55d4104e"
      },
      "execution_count": 55,
      "outputs": [
        {
          "output_type": "stream",
          "name": "stderr",
          "text": [
            "WARNING:matplotlib.legend:No artists with labels found to put in legend.  Note that artists whose label start with an underscore are ignored when legend() is called with no argument.\n"
          ]
        },
        {
          "output_type": "display_data",
          "data": {
            "text/plain": [
              "<Figure size 1200x800 with 1 Axes>"
            ],
            "image/png": "[encoded data removed]"
          },
          "metadata": {}
        }
      ]
    },
    {
      "cell_type": "code",
      "source": [
        "region_role_distribution = df1.groupby(['job_location']).size().sort_values(ascending=False)\n",
        "region_role_distribution"
      ],
      "metadata": {
        "colab": {
          "base_uri": "https://localhost:8080/"
        },
        "id": "p-S5d12AU9v7",
        "outputId": "6e3a9706-c162-4684-d59d-463939ec3505"
      },
      "execution_count": 56,
      "outputs": [
        {
          "output_type": "execute_result",
          "data": {
            "text/plain": [
              "job_location\n",
              " CA              154\n",
              " VA               89\n",
              " MA               62\n",
              " NY               52\n",
              " MD               40\n",
              " IL               30\n",
              " DC               26\n",
              " TX               17\n",
              " WA               16\n",
              " OH               14\n",
              " MO               12\n",
              " PA               12\n",
              "United States     11\n",
              " CO               10\n",
              " NJ               10\n",
              " NC                9\n",
              " GA                9\n",
              " FL                8\n",
              " TN                8\n",
              " OK                6\n",
              " WI                6\n",
              " MI                5\n",
              "Remote             5\n",
              " IN                5\n",
              " AZ                4\n",
              " MN                4\n",
              " CT                4\n",
              " AL                4\n",
              " NE                3\n",
              " IA                3\n",
              "New Jersey         2\n",
              " UT                2\n",
              " NH                2\n",
              " SC                2\n",
              " RI                2\n",
              " OR                2\n",
              "Utah               2\n",
              " MS                1\n",
              " WV                1\n",
              "California         1\n",
              " LA                1\n",
              " KS                1\n",
              "Texas              1\n",
              " DE                1\n",
              "dtype: int64"
            ]
          },
          "metadata": {},
          "execution_count": 56
        }
      ]
    },
    {
      "cell_type": "markdown",
      "source": [
        "California CA- 154\n",
        "\n",
        "Virginia VA- 89\n",
        "\n",
        "Massachusetts MA- 62\n",
        " \n",
        "New York NY- 52\n",
        "these are states with most amount of Data science jobs Opportunities \n"
      ],
      "metadata": {
        "id": "s4AZOIOxYnaU"
      }
    },
    {
      "cell_type": "markdown",
      "source": [
        "# 3.Determine the min and max average salary range for different job positions across the industries and how the salary changes from region to region"
      ],
      "metadata": {
        "id": "oSbYW5psaR-9"
      }
    },
    {
      "cell_type": "code",
      "source": [
        "plt.figure(figsize=(5,4))\n",
        "plt.bar(x=df1.new_title.value_counts().index, height=df1.new_title.value_counts(),\n",
        "        color = 'midnightblue')\n",
        "plt.xticks(rotation=45, fontsize=13)\n",
        "plt.yticks(fontsize=13)\n",
        "plt.title(\"Job Title Count\", fontsize=16, fontweight='bold')\n",
        "plt.ylabel(\"Count\", fontsize=13)\n",
        "plt.show()"
      ],
      "metadata": {
        "colab": {
          "base_uri": "https://localhost:8080/",
          "height": 506
        },
        "id": "KWg-YNlRYnFl",
        "outputId": "e63e7f68-6c0c-431c-e8ca-b9e1849f9b3c"
      },
      "execution_count": 69,
      "outputs": [
        {
          "output_type": "display_data",
          "data": {
            "text/plain": [
              "<Figure size 500x400 with 1 Axes>"
            ],
            "image/png": "[encoded data removed]"
          },
          "metadata": {}
        }
      ]
    },
    {
      "cell_type": "code",
      "source": [
        "plt.figure(figsize=(5,4))\n",
        "plt.bar(x=df1['new_title'], height=df1['avg_salary'],\n",
        "        color = 'midnightblue')\n",
        "plt.xticks(rotation=45, fontsize=13)\n",
        "plt.yticks(fontsize=13)\n",
        "plt.title(\"Avg Salary for each Job\", fontsize=16, fontweight='bold')\n",
        "plt.ylabel(\"avg_salary\", fontsize=13)\n",
        "plt.show()"
      ],
      "metadata": {
        "colab": {
          "base_uri": "https://localhost:8080/",
          "height": 506
        },
        "id": "IPnwPZwUgQMw",
        "outputId": "f0bda7a9-4225-4191-e7a0-e8463fcd3a6a"
      },
      "execution_count": 70,
      "outputs": [
        {
          "output_type": "display_data",
          "data": {
            "text/plain": [
              "<Figure size 500x400 with 1 Axes>"
            ],
            "image/png": "[encoded data removed]"
          },
          "metadata": {}
        }
      ]
    },
    {
      "cell_type": "code",
      "source": [
        "avg_salary_by_role = df1.groupby('new_title')['avg_salary'].mean()\n",
        "round(avg_salary_by_role,0)"
      ],
      "metadata": {
        "colab": {
          "base_uri": "https://localhost:8080/"
        },
        "id": "raJcIXuKlcnK",
        "outputId": "f9ac7e48-273c-494f-9409-43bab41bb876"
      },
      "execution_count": 67,
      "outputs": [
        {
          "output_type": "execute_result",
          "data": {
            "text/plain": [
              "new_title\n",
              "analyst              116.0\n",
              "data engineer        114.0\n",
              "data scientist       125.0\n",
              "director             127.0\n",
              "machine learning     118.0\n",
              "manager              138.0\n",
              "other                128.0\n",
              "Name: avg_salary, dtype: float64"
            ]
          },
          "metadata": {},
          "execution_count": 67
        }
      ]
    },
    {
      "cell_type": "code",
      "source": [
        "min_salary_by_role = df1.groupby('new_title')['min_salary'].mean()\n",
        "round(min_salary_by_role,0)"
      ],
      "metadata": {
        "colab": {
          "base_uri": "https://localhost:8080/"
        },
        "id": "TqzTPga8mcpY",
        "outputId": "b34dd110-facc-43b6-de13-568587f79882"
      },
      "execution_count": 71,
      "outputs": [
        {
          "output_type": "execute_result",
          "data": {
            "text/plain": [
              "new_title\n",
              "analyst               92.0\n",
              "data engineer         94.0\n",
              "data scientist       100.0\n",
              "director              97.0\n",
              "machine learning      93.0\n",
              "manager              113.0\n",
              "other                107.0\n",
              "Name: min_salary, dtype: float64"
            ]
          },
          "metadata": {},
          "execution_count": 71
        }
      ]
    },
    {
      "cell_type": "code",
      "source": [
        "max_salary_by_role = df1.groupby('new_title')['max_salary'].mean()\n",
        "round(max_salary_by_role,0)"
      ],
      "metadata": {
        "colab": {
          "base_uri": "https://localhost:8080/"
        },
        "id": "3Lc7PYjnmqKW",
        "outputId": "930a3b00-640d-4fc3-b254-b0f8c7c9f1d3"
      },
      "execution_count": 72,
      "outputs": [
        {
          "output_type": "execute_result",
          "data": {
            "text/plain": [
              "new_title\n",
              "analyst              139.0\n",
              "data engineer        134.0\n",
              "data scientist       151.0\n",
              "director             157.0\n",
              "machine learning     143.0\n",
              "manager              163.0\n",
              "other                150.0\n",
              "Name: max_salary, dtype: float64"
            ]
          },
          "metadata": {},
          "execution_count": 72
        }
      ]
    },
    {
      "cell_type": "code",
      "source": [
        "plt.figure(figsize=(10,6))\n",
        "plt.bar(x=df1['job_location'], height=df1['avg_salary'],\n",
        "        color = 'midnightblue')\n",
        "plt.xticks(rotation=45, fontsize=9)\n",
        "plt.yticks(fontsize=13)\n",
        "plt.title(\"Avg Salary for each Job\", fontsize=16, fontweight='bold')\n",
        "plt.ylabel(\"avg_salary\", fontsize=13)\n",
        "plt.show()"
      ],
      "metadata": {
        "colab": {
          "base_uri": "https://localhost:8080/",
          "height": 602
        },
        "id": "GnGie3uJnNfp",
        "outputId": "3cd080f3-2cb2-429a-9dd9-2762ae6391fb"
      },
      "execution_count": 77,
      "outputs": [
        {
          "output_type": "display_data",
          "data": {
            "text/plain": [
              "<Figure size 1000x600 with 1 Axes>"
            ],
            "image/png": "[encoded data removed]"
          },
          "metadata": {}
        }
      ]
    },
    {
      "cell_type": "markdown",
      "source": [
        "# 4. Determine the most in-demand skills across industries and highlight emerging skill trends."
      ],
      "metadata": {
        "id": "061j1F97ajjO"
      }
    },
    {
      "cell_type": "code",
      "source": [
        "df1.columns"
      ],
      "metadata": {
        "colab": {
          "base_uri": "https://localhost:8080/"
        },
        "id": "5237--Chpn63",
        "outputId": "81fa93bf-9730-4ca1-c32f-a6494079ff2e"
      },
      "execution_count": 80,
      "outputs": [
        {
          "output_type": "execute_result",
          "data": {
            "text/plain": [
              "Index(['Salary Estimate', 'Size', 'Type of ownership', 'Industry', 'Sector',\n",
              "       'Revenue', 'Competitors', 'new_title', 'exp_level', 'min_salary',\n",
              "       'max_salary', 'avg_salary', 'Company_Name', 'job_location',\n",
              "       'company_hq', 'company_age', 'python', 'sql', 'ml_dl', 'excel',\n",
              "       'hadoop', 'spark', 'cloud_platform', 'business_intelligence',\n",
              "       'big_data'],\n",
              "      dtype='object')"
            ]
          },
          "metadata": {},
          "execution_count": 80
        }
      ]
    },
    {
      "cell_type": "code",
      "source": [
        "# Combine the one-hot encoded skill columns into a single DataFrame\n",
        "skills_df = df1[['python', 'sql', 'ml_dl', 'excel','hadoop', 'spark', 'cloud_platform', 'business_intelligence','big_data']]\n",
        "\n",
        "# Count the occurrences of each skill across industries\n",
        "skill_counts = skills_df.sum().sort_values(ascending=False)\n",
        "\n",
        "# Determine the most in-demand skills across industries\n",
        "top_skills = skill_counts\n",
        "\n",
        "print(\"Most In-Demand Skills across Industries:\")\n",
        "print(top_skills)\n"
      ],
      "metadata": {
        "colab": {
          "base_uri": "https://localhost:8080/"
        },
        "id": "v6QQjbXMarVj",
        "outputId": "feb9a58c-fb42-4169-95b6-c6c4fbf85684"
      },
      "execution_count": 84,
      "outputs": [
        {
          "output_type": "stream",
          "name": "stdout",
          "text": [
            "Most In-Demand Skills across Industries:\n",
            "python                   478\n",
            "ml_dl                    410\n",
            "sql                      353\n",
            "excel                    295\n",
            "cloud_platform           181\n",
            "spark                    176\n",
            "hadoop                   142\n",
            "big_data                 138\n",
            "business_intelligence    128\n",
            "dtype: int64\n"
          ]
        }
      ]
    },
    {
      "cell_type": "markdown",
      "source": [
        "# 8. Analyze the distribution of the ownership of companies\n"
      ],
      "metadata": {
        "id": "Imp2V2N1bg1m"
      }
    },
    {
      "cell_type": "code",
      "source": [
        "ownership_distribution = df1['Type of ownership'].value_counts()\n",
        "\n",
        "plt.figure(figsize=(10, 6))\n",
        "ownership_distribution.plot(kind='bar')\n",
        "plt.title('Ownership Distribution of Companies')\n",
        "plt.xlabel('Type of ownership')\n",
        "plt.ylabel('Number of Companies')\n",
        "plt.show()"
      ],
      "metadata": {
        "colab": {
          "base_uri": "https://localhost:8080/",
          "height": 773
        },
        "id": "o6Bd6yWAbmg4",
        "outputId": "34e4ac18-54a7-4867-9caf-29c48d754d53"
      },
      "execution_count": 85,
      "outputs": [
        {
          "output_type": "display_data",
          "data": {
            "text/plain": [
              "<Figure size 1000x600 with 1 Axes>"
            ],
            "image/png": "[encoded data removed]"
          },
          "metadata": {}
        }
      ]
    },
    {
      "cell_type": "markdown",
      "source": [
        "# private and public companies have most of the job openings\n",
        "# THE END\n"
      ],
      "metadata": {
        "id": "v36y8opUgbRN"
      }
    },
    {
      "cell_type": "code",
      "source": [],
      "metadata": {
        "id": "GUD-QEM8gW1M"
      },
      "execution_count": null,
      "outputs": []
    }
  ]
}